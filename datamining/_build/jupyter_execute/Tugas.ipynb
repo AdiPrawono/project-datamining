{
 "cells": [
  {
   "block_group": "57a86ef52ed4434f8477abbd22729079",
   "cell_type": "markdown",
   "metadata": {
    "cell_id": "f4e59d7cc1ca4342bf1f620dd95cc864",
    "deepnote_cell_type": "text-cell-h1",
    "formattedRanges": []
   },
   "source": [
    "# MEMAHAMI DATA"
   ]
  },
  {
   "block_group": "e4c47ea9ff6546579029e9df2f7ea755",
   "cell_type": "markdown",
   "metadata": {
    "cell_id": "b91a411278414f1f9492f0850ac5ee4e",
    "deepnote_cell_type": "text-cell-h3",
    "formattedRanges": []
   },
   "source": [
    "### PENGERTIAN BUNGA IRIS"
   ]
  },
  {
   "block_group": "e4c47ea9ff6546579029e9df2f7ea755",
   "cell_type": "markdown",
   "metadata": {
    "cell_id": "9a421e7fec214e0f825befee31003269",
    "deepnote_cell_type": "text-cell-p",
    "formattedRanges": []
   },
   "source": []
  },
  {
   "block_group": "720ad917605a4a4f81300c814064622b",
   "cell_type": "markdown",
   "metadata": {
    "cell_id": "e7e506f5faa446f5a5b9855d4bd561a7",
    "deepnote_cell_type": "text-cell-p",
    "formattedRanges": []
   },
   "source": [
    "Bunga iris adalah tanaman yang memiliki keindahan warna dan bentuk yang menarik. Tanaman ini dapat diperjualbelikan secara bebas dan sering digunakan sebagai tanaman hias. Anda dapat menanamnya dalam pot atau langsung di tanah halaman rumah."
   ]
  },
  {
   "block_group": "4ccba45616e148bd9056d6d193674cd3",
   "cell_type": "markdown",
   "metadata": {
    "cell_id": "5df0cf0bc7e5462e80a9e12619dcd9c7",
    "deepnote_cell_type": "text-cell-p",
    "formattedRanges": []
   },
   "source": [
    "Selain sebagai tanaman hias, bunga iris juga memiliki manfaat sebagai tanaman obaT. Beberapa kondisi yang dapat diobati dengan bunga iris meliputi:"
   ]
  },
  {
   "block_group": "3f9eefa2302e413fb80fbee169bcd685",
   "cell_type": "markdown",
   "metadata": {
    "cell_id": "ffeae34c39bb462f957076deddc8cfbc",
    "deepnote_cell_type": "text-cell-p",
    "formattedRanges": [
     {
      "fromCodePoint": 0,
      "marks": {
       "bold": true
      },
      "toCodePoint": 408,
      "type": "marks"
     }
    ]
   },
   "source": [
    "1. Hepatitis: Bunga iris dapat membantu mengatasi masalah hati seperti hepatitis.\r\n",
    "2. Mual: Ekstrak bunga iris dapat membantu meredakan rasa mual.\r\n",
    "3. Sembelit: Bunga iris memiliki sifat pencahar ringan yang dapat membantu mengatasi sembelit.\r\n",
    "4. Rematik: Beberapa orang menggunakan bunga iris untuk mengurangi gejala rematik.\r\n",
    "5. Gusi Bengkak: Bunga iris juga dapat membantu mengurangi peradangan pada gusi."
   ]
  },
  {
   "block_group": "bd1b406281ea4511801a872a1fe496df",
   "cell_type": "markdown",
   "metadata": {
    "cell_id": "93164483c8b64c02ad753cd710b53689",
    "deepnote_cell_type": "text-cell-h3",
    "formattedRanges": []
   },
   "source": [
    "### Pada pertemuan kali ini akan memahami hal hal berikut"
   ]
  },
  {
   "block_group": "595dbd78fb004889bcdd61ddd3b4774a",
   "cell_type": "markdown",
   "metadata": {
    "cell_id": "fcc30d8f2fb147789c14850d8a1792a4",
    "deepnote_cell_type": "text-cell-bullet",
    "formattedRanges": []
   },
   "source": [
    "- mendeskripsikan fitur"
   ]
  },
  {
   "block_group": "40bab1a9fb5340c8b46ee9ad4a8b767e",
   "cell_type": "markdown",
   "metadata": {
    "cell_id": "f80ab4edb48e428c80705e646c5ba321",
    "deepnote_cell_type": "text-cell-bullet",
    "formattedRanges": []
   },
   "source": [
    "- Amati missing value"
   ]
  },
  {
   "block_group": "b7b00642bec94a61abad3cb9b2aa6e19",
   "cell_type": "markdown",
   "metadata": {
    "cell_id": "7b2ed59435974c5da231a543db8b3ed9",
    "deepnote_cell_type": "text-cell-bullet",
    "formattedRanges": []
   },
   "source": [
    "- Inputasi missing value dengan metode KNN dan Mean lalu dibandingkan"
   ]
  },
  {
   "block_group": "00684866c36a4b9dad3ccac48fd8a5a8",
   "cell_type": "markdown",
   "metadata": {
    "cell_id": "c62cc0b45ab64d58a7914a0a3a307294",
    "deepnote_cell_type": "text-cell-bullet",
    "formattedRanges": []
   },
   "source": [
    "- Hitung akurasi dan perbandingan tiap metode"
   ]
  },
  {
   "block_group": "489d4939a2b946649465dda020ddf07b",
   "cell_type": "markdown",
   "metadata": {
    "cell_id": "eaa021f936d84c71aa309d6dd98e1dda",
    "deepnote_cell_type": "image",
    "deepnote_img_src": "hqdefault.jpg"
   },
   "source": [
    "<img src=\"hqdefault.jpg\" width=\"\" align=\"\" />"
   ]
  },
  {
   "block_group": "72dc47ead0cf4389b1afbc557d7ce4aa",
   "cell_type": "markdown",
   "metadata": {
    "cell_id": "4da4d1b1ffe24b33914037488f557063",
    "deepnote_cell_type": "text-cell-h3",
    "formattedRanges": []
   },
   "source": [
    "### tools dan melakukan inisialiasasi"
   ]
  },
  {
   "block_group": "0d91795436e84934b0db02badc4dc675",
   "cell_type": "code",
   "execution_count": 1,
   "metadata": {
    "cell_id": "0fe11dbd5d6c41c6912e4f44d6e724b5",
    "deepnote_cell_type": "code",
    "deepnote_to_be_reexecuted": false,
    "execution_millis": 766,
    "execution_start": 1710390197352,
    "source_hash": "f0cb6e65"
   },
   "outputs": [],
   "outputs_reference": null,
   "source": [
    "import pandas as pd\n",
    "import seaborn as sns\n",
    "import numpy as np"
   ]
  },
  {
   "block_group": "9444bc2a49e54da589e6c1bff27e0003",
   "cell_type": "markdown",
   "metadata": {
    "cell_id": "abd6e58af1d8439691d5d0cb6a8c14af",
    "deepnote_cell_type": "text-cell-h2",
    "formattedRanges": []
   },
   "source": [
    "## MEMANGGIL DATA DARI SQL"
   ]
  },
  {
   "block_group": "b69d64a263b34e96b7bc8fc05e502d15",
   "cell_type": "code",
   "execution_count": 2,
   "metadata": {
    "cell_id": "52c633adb3b44659ba8937cf2c3245e1",
    "deepnote_cell_type": "sql",
    "deepnote_sql_source": "SELECT * FROM iris;",
    "deepnote_table_loading": false,
    "deepnote_table_state": {
     "filters": [],
     "pageIndex": 14,
     "pageSize": 10,
     "sortBy": []
    },
    "deepnote_to_be_reexecuted": false,
    "deepnote_variable_name": "df_sepal",
    "execution_millis": 3574,
    "execution_start": 1710390198124,
    "source_hash": "c9b3b4f",
    "sql_integration_id": "9f3f03b5-f8b8-4a07-80a1-96272ad8ccbc"
   },
   "outputs": [
    {
     "ename": "NameError",
     "evalue": "name '_deepnote_execute_sql' is not defined",
     "output_type": "error",
     "traceback": [
      "\u001b[0;31m---------------------------------------------------------------------------\u001b[0m",
      "\u001b[0;31mNameError\u001b[0m                                 Traceback (most recent call last)",
      "Cell \u001b[0;32mIn[2], line 1\u001b[0m\n\u001b[0;32m----> 1\u001b[0m df_sepal \u001b[38;5;241m=\u001b[39m \u001b[43m_deepnote_execute_sql\u001b[49m(\u001b[38;5;124m'\u001b[39m\u001b[38;5;124mSELECT * FROM iris;\u001b[39m\u001b[38;5;124m'\u001b[39m, \u001b[38;5;124m'\u001b[39m\u001b[38;5;124mSQL_9F3F03B5_F8B8_4A07_80A1_96272AD8CCBC\u001b[39m\u001b[38;5;124m'\u001b[39m, audit_sql_comment\u001b[38;5;241m=\u001b[39m\u001b[38;5;124m'\u001b[39m\u001b[38;5;124m'\u001b[39m, sql_cache_mode\u001b[38;5;241m=\u001b[39m\u001b[38;5;124m'\u001b[39m\u001b[38;5;124mcache_disabled\u001b[39m\u001b[38;5;124m'\u001b[39m)\n\u001b[1;32m      2\u001b[0m df_sepal\n",
      "\u001b[0;31mNameError\u001b[0m: name '_deepnote_execute_sql' is not defined"
     ]
    }
   ],
   "outputs_reference": "s3:deepnote-cell-outputs-production/d615fc92-a328-4225-a5ef-f91edcca3b32",
   "source": [
    "df_sepal = _deepnote_execute_sql('SELECT * FROM iris;', 'SQL_9F3F03B5_F8B8_4A07_80A1_96272AD8CCBC', audit_sql_comment='', sql_cache_mode='cache_disabled')\n",
    "df_sepal"
   ]
  },
  {
   "block_group": "848eaffdbd034438b45eb208ba908436",
   "cell_type": "markdown",
   "metadata": {
    "cell_id": "1f1f0784960141c7a7ee9da9ca6aa7d2",
    "deepnote_cell_type": "text-cell-h2",
    "formattedRanges": []
   },
   "source": [
    "## MEMANGGIL DATA DARI POSTGRESQL"
   ]
  },
  {
   "block_group": "c3073079e4c542b5ad83e142b14da01c",
   "cell_type": "code",
   "execution_count": 3,
   "metadata": {
    "cell_id": "f8f7482abf3e445dab8ab3c9a3cbc307",
    "deepnote_cell_type": "sql",
    "deepnote_sql_source": "SELECT * FROM iris;\n",
    "deepnote_to_be_reexecuted": false,
    "deepnote_variable_name": "df_petal",
    "execution_millis": 3841,
    "execution_start": 1710390201709,
    "source_hash": "fb5f6ea",
    "sql_integration_id": "6f84781f-577d-4d8a-83a4-fc7e0ca2ec1d"
   },
   "outputs": [
    {
     "data": {
      "application/vnd.deepnote.sql-output-metadata+json": {
       "size_in_bytes": 14278,
       "status": "success_no_cache"
      }
     },
     "metadata": {},
     "output_type": "display_data"
    },
    {
     "data": {
      "application/vnd.deepnote.dataframe.v3+json": {
       "column_count": 4,
       "columns": [
        {
         "dtype": "int64",
         "name": "id",
         "stats": {
          "histogram": [
           {
            "bin_end": 15.9,
            "bin_start": 1,
            "count": 15
           },
           {
            "bin_end": 30.8,
            "bin_start": 15.9,
            "count": 15
           },
           {
            "bin_end": 45.7,
            "bin_start": 30.8,
            "count": 15
           },
           {
            "bin_end": 60.6,
            "bin_start": 45.7,
            "count": 15
           },
           {
            "bin_end": 75.5,
            "bin_start": 60.6,
            "count": 15
           },
           {
            "bin_end": 90.4,
            "bin_start": 75.5,
            "count": 15
           },
           {
            "bin_end": 105.3,
            "bin_start": 90.4,
            "count": 15
           },
           {
            "bin_end": 120.2,
            "bin_start": 105.3,
            "count": 15
           },
           {
            "bin_end": 135.1,
            "bin_start": 120.2,
            "count": 15
           },
           {
            "bin_end": 150,
            "bin_start": 135.1,
            "count": 15
           }
          ],
          "max": "150",
          "min": "1",
          "nan_count": 0,
          "unique_count": 150
         }
        },
        {
         "dtype": "float64",
         "name": "petallengthcm",
         "stats": {
          "histogram": [
           {
            "bin_end": 1.59,
            "bin_start": 1,
            "count": 37
           },
           {
            "bin_end": 2.18,
            "bin_start": 1.59,
            "count": 13
           },
           {
            "bin_end": 2.7700000000000005,
            "bin_start": 2.18,
            "count": 0
           },
           {
            "bin_end": 3.3600000000000003,
            "bin_start": 2.7700000000000005,
            "count": 3
           },
           {
            "bin_end": 3.95,
            "bin_start": 3.3600000000000003,
            "count": 8
           },
           {
            "bin_end": 4.540000000000001,
            "bin_start": 3.95,
            "count": 26
           },
           {
            "bin_end": 5.130000000000001,
            "bin_start": 4.540000000000001,
            "count": 29
           },
           {
            "bin_end": 5.720000000000001,
            "bin_start": 5.130000000000001,
            "count": 18
           },
           {
            "bin_end": 6.3100000000000005,
            "bin_start": 5.720000000000001,
            "count": 11
           },
           {
            "bin_end": 6.9,
            "bin_start": 6.3100000000000005,
            "count": 5
           }
          ],
          "max": "6.9",
          "min": "1.0",
          "nan_count": 0,
          "unique_count": 43
         }
        },
        {
         "dtype": "float64",
         "name": "petalwidthcm",
         "stats": {
          "histogram": [
           {
            "bin_end": 0.33999999999999997,
            "bin_start": 0.1,
            "count": 41
           },
           {
            "bin_end": 0.58,
            "bin_start": 0.33999999999999997,
            "count": 8
           },
           {
            "bin_end": 0.82,
            "bin_start": 0.58,
            "count": 1
           },
           {
            "bin_end": 1.06,
            "bin_start": 0.82,
            "count": 7
           },
           {
            "bin_end": 1.3,
            "bin_start": 1.06,
            "count": 8
           },
           {
            "bin_end": 1.54,
            "bin_start": 1.3,
            "count": 33
           },
           {
            "bin_end": 1.78,
            "bin_start": 1.54,
            "count": 6
           },
           {
            "bin_end": 2.02,
            "bin_start": 1.78,
            "count": 23
           },
           {
            "bin_end": 2.2600000000000002,
            "bin_start": 2.02,
            "count": 9
           },
           {
            "bin_end": 2.5,
            "bin_start": 2.2600000000000002,
            "count": 14
           }
          ],
          "max": "2.5",
          "min": "0.1",
          "nan_count": 0,
          "unique_count": 22
         }
        },
        {
         "dtype": "object",
         "name": "species",
         "stats": {
          "categories": [
           {
            "count": 50,
            "name": "Iris-setosa"
           },
           {
            "count": 50,
            "name": "Iris-versicolor"
           },
           {
            "count": 50,
            "name": "Iris-virginica"
           }
          ],
          "nan_count": 0,
          "unique_count": 3
         }
        },
        {
         "dtype": "int64",
         "name": "_deepnote_index_column"
        }
       ],
       "row_count": 150,
       "rows": [
        {
         "_deepnote_index_column": 0,
         "id": 1,
         "petallengthcm": 1.4,
         "petalwidthcm": 0.2,
         "species": "Iris-setosa"
        },
        {
         "_deepnote_index_column": 1,
         "id": 2,
         "petallengthcm": 1.4,
         "petalwidthcm": 0.2,
         "species": "Iris-setosa"
        },
        {
         "_deepnote_index_column": 2,
         "id": 3,
         "petallengthcm": 1.3,
         "petalwidthcm": 0.2,
         "species": "Iris-setosa"
        },
        {
         "_deepnote_index_column": 3,
         "id": 4,
         "petallengthcm": 1.5,
         "petalwidthcm": 0.2,
         "species": "Iris-setosa"
        },
        {
         "_deepnote_index_column": 4,
         "id": 5,
         "petallengthcm": 1.4,
         "petalwidthcm": 0.2,
         "species": "Iris-setosa"
        },
        {
         "_deepnote_index_column": 5,
         "id": 6,
         "petallengthcm": 1.7,
         "petalwidthcm": 0.4,
         "species": "Iris-setosa"
        },
        {
         "_deepnote_index_column": 6,
         "id": 7,
         "petallengthcm": 1.4,
         "petalwidthcm": 0.3,
         "species": "Iris-setosa"
        },
        {
         "_deepnote_index_column": 7,
         "id": 8,
         "petallengthcm": 1.5,
         "petalwidthcm": 0.2,
         "species": "Iris-setosa"
        },
        {
         "_deepnote_index_column": 8,
         "id": 9,
         "petallengthcm": 1.4,
         "petalwidthcm": 0.2,
         "species": "Iris-setosa"
        },
        {
         "_deepnote_index_column": 9,
         "id": 10,
         "petallengthcm": 1.5,
         "petalwidthcm": 0.1,
         "species": "Iris-setosa"
        }
       ]
      },
      "text/html": [
       "<div>\n",
       "<style scoped>\n",
       "    .dataframe tbody tr th:only-of-type {\n",
       "        vertical-align: middle;\n",
       "    }\n",
       "\n",
       "    .dataframe tbody tr th {\n",
       "        vertical-align: top;\n",
       "    }\n",
       "\n",
       "    .dataframe thead th {\n",
       "        text-align: right;\n",
       "    }\n",
       "</style>\n",
       "<table border=\"1\" class=\"dataframe\">\n",
       "  <thead>\n",
       "    <tr style=\"text-align: right;\">\n",
       "      <th></th>\n",
       "      <th>id</th>\n",
       "      <th>petallengthcm</th>\n",
       "      <th>petalwidthcm</th>\n",
       "      <th>species</th>\n",
       "    </tr>\n",
       "  </thead>\n",
       "  <tbody>\n",
       "    <tr>\n",
       "      <th>0</th>\n",
       "      <td>1</td>\n",
       "      <td>1.4</td>\n",
       "      <td>0.2</td>\n",
       "      <td>Iris-setosa</td>\n",
       "    </tr>\n",
       "    <tr>\n",
       "      <th>1</th>\n",
       "      <td>2</td>\n",
       "      <td>1.4</td>\n",
       "      <td>0.2</td>\n",
       "      <td>Iris-setosa</td>\n",
       "    </tr>\n",
       "    <tr>\n",
       "      <th>2</th>\n",
       "      <td>3</td>\n",
       "      <td>1.3</td>\n",
       "      <td>0.2</td>\n",
       "      <td>Iris-setosa</td>\n",
       "    </tr>\n",
       "    <tr>\n",
       "      <th>3</th>\n",
       "      <td>4</td>\n",
       "      <td>1.5</td>\n",
       "      <td>0.2</td>\n",
       "      <td>Iris-setosa</td>\n",
       "    </tr>\n",
       "    <tr>\n",
       "      <th>4</th>\n",
       "      <td>5</td>\n",
       "      <td>1.4</td>\n",
       "      <td>0.2</td>\n",
       "      <td>Iris-setosa</td>\n",
       "    </tr>\n",
       "    <tr>\n",
       "      <th>...</th>\n",
       "      <td>...</td>\n",
       "      <td>...</td>\n",
       "      <td>...</td>\n",
       "      <td>...</td>\n",
       "    </tr>\n",
       "    <tr>\n",
       "      <th>145</th>\n",
       "      <td>146</td>\n",
       "      <td>5.2</td>\n",
       "      <td>2.3</td>\n",
       "      <td>Iris-virginica</td>\n",
       "    </tr>\n",
       "    <tr>\n",
       "      <th>146</th>\n",
       "      <td>147</td>\n",
       "      <td>5.0</td>\n",
       "      <td>1.9</td>\n",
       "      <td>Iris-virginica</td>\n",
       "    </tr>\n",
       "    <tr>\n",
       "      <th>147</th>\n",
       "      <td>148</td>\n",
       "      <td>5.2</td>\n",
       "      <td>2.0</td>\n",
       "      <td>Iris-virginica</td>\n",
       "    </tr>\n",
       "    <tr>\n",
       "      <th>148</th>\n",
       "      <td>149</td>\n",
       "      <td>5.4</td>\n",
       "      <td>2.3</td>\n",
       "      <td>Iris-virginica</td>\n",
       "    </tr>\n",
       "    <tr>\n",
       "      <th>149</th>\n",
       "      <td>150</td>\n",
       "      <td>5.1</td>\n",
       "      <td>1.8</td>\n",
       "      <td>Iris-virginica</td>\n",
       "    </tr>\n",
       "  </tbody>\n",
       "</table>\n",
       "<p>150 rows × 4 columns</p>\n",
       "</div>"
      ],
      "text/plain": [
       "      id  petallengthcm  petalwidthcm         species\n",
       "0      1            1.4           0.2     Iris-setosa\n",
       "1      2            1.4           0.2     Iris-setosa\n",
       "2      3            1.3           0.2     Iris-setosa\n",
       "3      4            1.5           0.2     Iris-setosa\n",
       "4      5            1.4           0.2     Iris-setosa\n",
       "..   ...            ...           ...             ...\n",
       "145  146            5.2           2.3  Iris-virginica\n",
       "146  147            5.0           1.9  Iris-virginica\n",
       "147  148            5.2           2.0  Iris-virginica\n",
       "148  149            5.4           2.3  Iris-virginica\n",
       "149  150            5.1           1.8  Iris-virginica\n",
       "\n",
       "[150 rows x 4 columns]"
      ]
     },
     "execution_count": 3,
     "metadata": {},
     "output_type": "execute_result"
    }
   ],
   "outputs_reference": "s3:deepnote-cell-outputs-production/c6d96ced-3f5c-432c-ba30-8829a694ee8b",
   "source": [
    "df_petal = _deepnote_execute_sql('SELECT * FROM iris;\\n', 'SQL_6F84781F_577D_4D8A_83A4_FC7E0CA2EC1D', audit_sql_comment='', sql_cache_mode='cache_disabled')\n",
    "df_petal"
   ]
  },
  {
   "block_group": "8908077d79264270a3b617209544a24c",
   "cell_type": "markdown",
   "metadata": {
    "cell_id": "fc24e3649be044c0bdef141185ca701a",
    "deepnote_cell_type": "text-cell-h2",
    "formattedRanges": []
   },
   "source": [
    "## MENGGABUNGKAN 2 DATA DARI DATABASE BERBEDA "
   ]
  },
  {
   "block_group": "275077a2bbd843afbf78003d91cb53f5",
   "cell_type": "markdown",
   "metadata": {
    "cell_id": "40f4c1f229ab4e4b8ec0330bcd9ffeab",
    "deepnote_cell_type": "text-cell-p",
    "formattedRanges": []
   },
   "source": [
    "MENJADI 1 DATA "
   ]
  },
  {
   "block_group": "abf5c4dc88404711a204aeb4633fa050",
   "cell_type": "code",
   "execution_count": 4,
   "metadata": {
    "cell_id": "7321c3e78f404a4b93f8b434067369c0",
    "deepnote_cell_type": "code",
    "deepnote_to_be_reexecuted": false,
    "execution_millis": 229,
    "execution_start": 1710390205559,
    "source_hash": "d6f780b8"
   },
   "outputs": [
    {
     "data": {
      "application/vnd.deepnote.dataframe.v3+json": {
       "column_count": 6,
       "columns": [
        {
         "dtype": "int64",
         "name": "Id",
         "stats": {
          "histogram": [
           {
            "bin_end": 15.9,
            "bin_start": 1,
            "count": 15
           },
           {
            "bin_end": 30.8,
            "bin_start": 15.9,
            "count": 15
           },
           {
            "bin_end": 45.7,
            "bin_start": 30.8,
            "count": 15
           },
           {
            "bin_end": 60.6,
            "bin_start": 45.7,
            "count": 15
           },
           {
            "bin_end": 75.5,
            "bin_start": 60.6,
            "count": 15
           },
           {
            "bin_end": 90.4,
            "bin_start": 75.5,
            "count": 15
           },
           {
            "bin_end": 105.3,
            "bin_start": 90.4,
            "count": 15
           },
           {
            "bin_end": 120.2,
            "bin_start": 105.3,
            "count": 15
           },
           {
            "bin_end": 135.1,
            "bin_start": 120.2,
            "count": 15
           },
           {
            "bin_end": 150,
            "bin_start": 135.1,
            "count": 15
           }
          ],
          "max": "150",
          "min": "1",
          "nan_count": 0,
          "unique_count": 150
         }
        },
        {
         "dtype": "float64",
         "name": "SepalLengthCm",
         "stats": {
          "histogram": [
           {
            "bin_end": 4.66,
            "bin_start": 4.3,
            "count": 9
           },
           {
            "bin_end": 5.02,
            "bin_start": 4.66,
            "count": 23
           },
           {
            "bin_end": 5.38,
            "bin_start": 5.02,
            "count": 14
           },
           {
            "bin_end": 5.74,
            "bin_start": 5.38,
            "count": 27
           },
           {
            "bin_end": 6.1,
            "bin_start": 5.74,
            "count": 16
           },
           {
            "bin_end": 6.46,
            "bin_start": 6.1,
            "count": 26
           },
           {
            "bin_end": 6.82,
            "bin_start": 6.46,
            "count": 18
           },
           {
            "bin_end": 7.18,
            "bin_start": 6.82,
            "count": 6
           },
           {
            "bin_end": 7.54,
            "bin_start": 7.18,
            "count": 5
           },
           {
            "bin_end": 7.9,
            "bin_start": 7.54,
            "count": 6
           }
          ],
          "max": "7.9",
          "min": "4.3",
          "nan_count": 0,
          "unique_count": 35
         }
        },
        {
         "dtype": "float64",
         "name": "SepalWidthCm",
         "stats": {
          "histogram": [
           {
            "bin_end": 2.24,
            "bin_start": 2,
            "count": 4
           },
           {
            "bin_end": 2.48,
            "bin_start": 2.24,
            "count": 7
           },
           {
            "bin_end": 2.72,
            "bin_start": 2.48,
            "count": 22
           },
           {
            "bin_end": 2.96,
            "bin_start": 2.72,
            "count": 24
           },
           {
            "bin_end": 3.2,
            "bin_start": 2.96,
            "count": 38
           },
           {
            "bin_end": 3.4400000000000004,
            "bin_start": 3.2,
            "count": 31
           },
           {
            "bin_end": 3.6800000000000006,
            "bin_start": 3.4400000000000004,
            "count": 9
           },
           {
            "bin_end": 3.9200000000000004,
            "bin_start": 3.6800000000000006,
            "count": 11
           },
           {
            "bin_end": 4.16,
            "bin_start": 3.9200000000000004,
            "count": 2
           },
           {
            "bin_end": 4.4,
            "bin_start": 4.16,
            "count": 2
           }
          ],
          "max": "4.4",
          "min": "2.0",
          "nan_count": 0,
          "unique_count": 23
         }
        },
        {
         "dtype": "float64",
         "name": "petallengthcm",
         "stats": {
          "histogram": [
           {
            "bin_end": 1.59,
            "bin_start": 1,
            "count": 37
           },
           {
            "bin_end": 2.18,
            "bin_start": 1.59,
            "count": 13
           },
           {
            "bin_end": 2.7700000000000005,
            "bin_start": 2.18,
            "count": 0
           },
           {
            "bin_end": 3.3600000000000003,
            "bin_start": 2.7700000000000005,
            "count": 3
           },
           {
            "bin_end": 3.95,
            "bin_start": 3.3600000000000003,
            "count": 8
           },
           {
            "bin_end": 4.540000000000001,
            "bin_start": 3.95,
            "count": 26
           },
           {
            "bin_end": 5.130000000000001,
            "bin_start": 4.540000000000001,
            "count": 29
           },
           {
            "bin_end": 5.720000000000001,
            "bin_start": 5.130000000000001,
            "count": 18
           },
           {
            "bin_end": 6.3100000000000005,
            "bin_start": 5.720000000000001,
            "count": 11
           },
           {
            "bin_end": 6.9,
            "bin_start": 6.3100000000000005,
            "count": 5
           }
          ],
          "max": "6.9",
          "min": "1.0",
          "nan_count": 0,
          "unique_count": 43
         }
        },
        {
         "dtype": "float64",
         "name": "petalwidthcm",
         "stats": {
          "histogram": [
           {
            "bin_end": 0.33999999999999997,
            "bin_start": 0.1,
            "count": 41
           },
           {
            "bin_end": 0.58,
            "bin_start": 0.33999999999999997,
            "count": 8
           },
           {
            "bin_end": 0.82,
            "bin_start": 0.58,
            "count": 1
           },
           {
            "bin_end": 1.06,
            "bin_start": 0.82,
            "count": 7
           },
           {
            "bin_end": 1.3,
            "bin_start": 1.06,
            "count": 8
           },
           {
            "bin_end": 1.54,
            "bin_start": 1.3,
            "count": 33
           },
           {
            "bin_end": 1.78,
            "bin_start": 1.54,
            "count": 6
           },
           {
            "bin_end": 2.02,
            "bin_start": 1.78,
            "count": 23
           },
           {
            "bin_end": 2.2600000000000002,
            "bin_start": 2.02,
            "count": 9
           },
           {
            "bin_end": 2.5,
            "bin_start": 2.2600000000000002,
            "count": 14
           }
          ],
          "max": "2.5",
          "min": "0.1",
          "nan_count": 0,
          "unique_count": 22
         }
        },
        {
         "dtype": "object",
         "name": "species",
         "stats": {
          "categories": [
           {
            "count": 50,
            "name": "Iris-setosa"
           },
           {
            "count": 50,
            "name": "Iris-versicolor"
           },
           {
            "count": 50,
            "name": "Iris-virginica"
           }
          ],
          "nan_count": 0,
          "unique_count": 3
         }
        },
        {
         "dtype": "int64",
         "name": "_deepnote_index_column"
        }
       ],
       "row_count": 150,
       "rows": [
        {
         "Id": 1,
         "SepalLengthCm": 5.1,
         "SepalWidthCm": 3.5,
         "_deepnote_index_column": 0,
         "petallengthcm": 1.4,
         "petalwidthcm": 0.2,
         "species": "Iris-setosa"
        },
        {
         "Id": 2,
         "SepalLengthCm": 4.9,
         "SepalWidthCm": 3,
         "_deepnote_index_column": 1,
         "petallengthcm": 1.4,
         "petalwidthcm": 0.2,
         "species": "Iris-setosa"
        },
        {
         "Id": 3,
         "SepalLengthCm": 4.7,
         "SepalWidthCm": 3.2,
         "_deepnote_index_column": 2,
         "petallengthcm": 1.3,
         "petalwidthcm": 0.2,
         "species": "Iris-setosa"
        },
        {
         "Id": 4,
         "SepalLengthCm": 4.6,
         "SepalWidthCm": 3.1,
         "_deepnote_index_column": 3,
         "petallengthcm": 1.5,
         "petalwidthcm": 0.2,
         "species": "Iris-setosa"
        },
        {
         "Id": 5,
         "SepalLengthCm": 5,
         "SepalWidthCm": 3.6,
         "_deepnote_index_column": 4,
         "petallengthcm": 1.4,
         "petalwidthcm": 0.2,
         "species": "Iris-setosa"
        },
        {
         "Id": 6,
         "SepalLengthCm": 5.4,
         "SepalWidthCm": 3.9,
         "_deepnote_index_column": 5,
         "petallengthcm": 1.7,
         "petalwidthcm": 0.4,
         "species": "Iris-setosa"
        },
        {
         "Id": 7,
         "SepalLengthCm": 4.6,
         "SepalWidthCm": 3.4,
         "_deepnote_index_column": 6,
         "petallengthcm": 1.4,
         "petalwidthcm": 0.3,
         "species": "Iris-setosa"
        },
        {
         "Id": 8,
         "SepalLengthCm": 5,
         "SepalWidthCm": 3.4,
         "_deepnote_index_column": 7,
         "petallengthcm": 1.5,
         "petalwidthcm": 0.2,
         "species": "Iris-setosa"
        },
        {
         "Id": 9,
         "SepalLengthCm": 4.4,
         "SepalWidthCm": 2.9,
         "_deepnote_index_column": 8,
         "petallengthcm": 1.4,
         "petalwidthcm": 0.2,
         "species": "Iris-setosa"
        },
        {
         "Id": 10,
         "SepalLengthCm": 4.9,
         "SepalWidthCm": 3.1,
         "_deepnote_index_column": 9,
         "petallengthcm": 1.5,
         "petalwidthcm": 0.1,
         "species": "Iris-setosa"
        }
       ]
      },
      "text/html": [
       "<div>\n",
       "<style scoped>\n",
       "    .dataframe tbody tr th:only-of-type {\n",
       "        vertical-align: middle;\n",
       "    }\n",
       "\n",
       "    .dataframe tbody tr th {\n",
       "        vertical-align: top;\n",
       "    }\n",
       "\n",
       "    .dataframe thead th {\n",
       "        text-align: right;\n",
       "    }\n",
       "</style>\n",
       "<table border=\"1\" class=\"dataframe\">\n",
       "  <thead>\n",
       "    <tr style=\"text-align: right;\">\n",
       "      <th></th>\n",
       "      <th>Id</th>\n",
       "      <th>SepalLengthCm</th>\n",
       "      <th>SepalWidthCm</th>\n",
       "      <th>petallengthcm</th>\n",
       "      <th>petalwidthcm</th>\n",
       "      <th>species</th>\n",
       "    </tr>\n",
       "  </thead>\n",
       "  <tbody>\n",
       "    <tr>\n",
       "      <th>0</th>\n",
       "      <td>1</td>\n",
       "      <td>5.1</td>\n",
       "      <td>3.5</td>\n",
       "      <td>1.4</td>\n",
       "      <td>0.2</td>\n",
       "      <td>Iris-setosa</td>\n",
       "    </tr>\n",
       "    <tr>\n",
       "      <th>1</th>\n",
       "      <td>2</td>\n",
       "      <td>4.9</td>\n",
       "      <td>3.0</td>\n",
       "      <td>1.4</td>\n",
       "      <td>0.2</td>\n",
       "      <td>Iris-setosa</td>\n",
       "    </tr>\n",
       "    <tr>\n",
       "      <th>2</th>\n",
       "      <td>3</td>\n",
       "      <td>4.7</td>\n",
       "      <td>3.2</td>\n",
       "      <td>1.3</td>\n",
       "      <td>0.2</td>\n",
       "      <td>Iris-setosa</td>\n",
       "    </tr>\n",
       "    <tr>\n",
       "      <th>3</th>\n",
       "      <td>4</td>\n",
       "      <td>4.6</td>\n",
       "      <td>3.1</td>\n",
       "      <td>1.5</td>\n",
       "      <td>0.2</td>\n",
       "      <td>Iris-setosa</td>\n",
       "    </tr>\n",
       "    <tr>\n",
       "      <th>4</th>\n",
       "      <td>5</td>\n",
       "      <td>5.0</td>\n",
       "      <td>3.6</td>\n",
       "      <td>1.4</td>\n",
       "      <td>0.2</td>\n",
       "      <td>Iris-setosa</td>\n",
       "    </tr>\n",
       "    <tr>\n",
       "      <th>...</th>\n",
       "      <td>...</td>\n",
       "      <td>...</td>\n",
       "      <td>...</td>\n",
       "      <td>...</td>\n",
       "      <td>...</td>\n",
       "      <td>...</td>\n",
       "    </tr>\n",
       "    <tr>\n",
       "      <th>145</th>\n",
       "      <td>146</td>\n",
       "      <td>6.7</td>\n",
       "      <td>3.0</td>\n",
       "      <td>5.2</td>\n",
       "      <td>2.3</td>\n",
       "      <td>Iris-virginica</td>\n",
       "    </tr>\n",
       "    <tr>\n",
       "      <th>146</th>\n",
       "      <td>147</td>\n",
       "      <td>6.3</td>\n",
       "      <td>2.5</td>\n",
       "      <td>5.0</td>\n",
       "      <td>1.9</td>\n",
       "      <td>Iris-virginica</td>\n",
       "    </tr>\n",
       "    <tr>\n",
       "      <th>147</th>\n",
       "      <td>148</td>\n",
       "      <td>6.5</td>\n",
       "      <td>3.0</td>\n",
       "      <td>5.2</td>\n",
       "      <td>2.0</td>\n",
       "      <td>Iris-virginica</td>\n",
       "    </tr>\n",
       "    <tr>\n",
       "      <th>148</th>\n",
       "      <td>149</td>\n",
       "      <td>6.2</td>\n",
       "      <td>3.4</td>\n",
       "      <td>5.4</td>\n",
       "      <td>2.3</td>\n",
       "      <td>Iris-virginica</td>\n",
       "    </tr>\n",
       "    <tr>\n",
       "      <th>149</th>\n",
       "      <td>150</td>\n",
       "      <td>5.9</td>\n",
       "      <td>3.0</td>\n",
       "      <td>5.1</td>\n",
       "      <td>1.8</td>\n",
       "      <td>Iris-virginica</td>\n",
       "    </tr>\n",
       "  </tbody>\n",
       "</table>\n",
       "<p>150 rows × 6 columns</p>\n",
       "</div>"
      ],
      "text/plain": [
       "      Id  SepalLengthCm  SepalWidthCm  petallengthcm  petalwidthcm  \\\n",
       "0      1            5.1           3.5            1.4           0.2   \n",
       "1      2            4.9           3.0            1.4           0.2   \n",
       "2      3            4.7           3.2            1.3           0.2   \n",
       "3      4            4.6           3.1            1.5           0.2   \n",
       "4      5            5.0           3.6            1.4           0.2   \n",
       "..   ...            ...           ...            ...           ...   \n",
       "145  146            6.7           3.0            5.2           2.3   \n",
       "146  147            6.3           2.5            5.0           1.9   \n",
       "147  148            6.5           3.0            5.2           2.0   \n",
       "148  149            6.2           3.4            5.4           2.3   \n",
       "149  150            5.9           3.0            5.1           1.8   \n",
       "\n",
       "            species  \n",
       "0       Iris-setosa  \n",
       "1       Iris-setosa  \n",
       "2       Iris-setosa  \n",
       "3       Iris-setosa  \n",
       "4       Iris-setosa  \n",
       "..              ...  \n",
       "145  Iris-virginica  \n",
       "146  Iris-virginica  \n",
       "147  Iris-virginica  \n",
       "148  Iris-virginica  \n",
       "149  Iris-virginica  \n",
       "\n",
       "[150 rows x 6 columns]"
      ]
     },
     "execution_count": 4,
     "metadata": {},
     "output_type": "execute_result"
    }
   ],
   "outputs_reference": "s3:deepnote-cell-outputs-production/159711c8-5c81-4b73-aa08-92f274f52d20",
   "source": [
    "df = pd.concat([df_sepal.drop(['Species'], axis=1), df_petal.drop(['id'], axis=1)], axis=1, join='inner')\n",
    "\n",
    "df"
   ]
  },
  {
   "block_group": "22ecbc1bc0c5452786fa7253609c675d",
   "cell_type": "markdown",
   "metadata": {
    "cell_id": "15275759ce3440ccb38fc7f7612bb578",
    "deepnote_cell_type": "text-cell-h2",
    "formattedRanges": []
   },
   "source": [
    "## DESKRIPSI TENTANG DATA "
   ]
  },
  {
   "block_group": "de534f07fa764c4b9de73850309899de",
   "cell_type": "markdown",
   "metadata": {
    "cell_id": "807d5e0eea3c460b9efce17ffe4a65f9",
    "deepnote_cell_type": "text-cell-h3",
    "formattedRanges": []
   },
   "source": [
    "### FITUR"
   ]
  },
  {
   "block_group": "889cdc4712f3461c8c87bb170faebf20",
   "cell_type": "code",
   "execution_count": 5,
   "metadata": {
    "cell_id": "74059c0105544915a23897463c6aaca6",
    "deepnote_cell_type": "code",
    "deepnote_to_be_reexecuted": false,
    "execution_millis": 465,
    "execution_start": 1710390205596,
    "source_hash": "de1e323c"
   },
   "outputs": [
    {
     "name": "stdout",
     "output_type": "stream",
     "text": [
      "<class 'pandas.core.frame.DataFrame'>\n",
      "RangeIndex: 150 entries, 0 to 149\n",
      "Data columns (total 6 columns):\n",
      " #   Column         Non-Null Count  Dtype  \n",
      "---  ------         --------------  -----  \n",
      " 0   Id             150 non-null    int64  \n",
      " 1   SepalLengthCm  150 non-null    float64\n",
      " 2   SepalWidthCm   150 non-null    float64\n",
      " 3   petallengthcm  150 non-null    float64\n",
      " 4   petalwidthcm   150 non-null    float64\n",
      " 5   species        150 non-null    object \n",
      "dtypes: float64(4), int64(1), object(1)\n",
      "memory usage: 7.2+ KB\n"
     ]
    }
   ],
   "outputs_reference": "dbtable:cell_outputs/5839bc69-a1e4-47e0-972d-d5311d286561",
   "source": [
    "df.info()"
   ]
  },
  {
   "block_group": "c0d4a4a22c2443a38f6b1e318bd1c22f",
   "cell_type": "markdown",
   "metadata": {
    "cell_id": "bda1d99f35b645579e2a81942e456138",
    "deepnote_cell_type": "text-cell-h3",
    "formattedRanges": []
   },
   "source": [
    "### penjelasan"
   ]
  },
  {
   "block_group": "6e6da1255ff4426ba3f2bcb10dd7e526",
   "cell_type": "markdown",
   "metadata": {
    "cell_id": "883ddf798d8849c6887312e0c412508b",
    "deepnote_cell_type": "text-cell-p",
    "formattedRanges": []
   },
   "source": [
    "1.RangeIndex (Indeks Rentang): "
   ]
  },
  {
   "block_group": "748b47c3dc784a57bdfc122e5b2d1683",
   "cell_type": "markdown",
   "metadata": {
    "cell_id": "b27be12036964bb4bc648fdc36105eab",
    "deepnote_cell_type": "text-cell-p",
    "formattedRanges": []
   },
   "source": [
    " Indeks ini menunjukkan jumlah baris dalam DataFrame. Pada kasus ini, terdapat 150 entri, mulai dari indeks 0 hingga 149."
   ]
  },
  {
   "block_group": "2b4bd49400a94f11bc660dbcc18b18d4",
   "cell_type": "markdown",
   "metadata": {
    "cell_id": "c9af9d61f56e478b871cc2439b1815f1",
    "deepnote_cell_type": "text-cell-p",
    "formattedRanges": []
   },
   "source": [
    "\r",
    "2.Data Columns (Kolom Data):"
   ]
  },
  {
   "block_group": "89673ad81e36490d8a4049b76a421398",
   "cell_type": "markdown",
   "metadata": {
    "cell_id": "82dc9773bf1d4187a71036636e4617fa",
    "deepnote_cell_type": "text-cell-p",
    "formattedRanges": [
     {
      "fromCodePoint": 0,
      "marks": {
       "bold": true,
       "italic": true
      },
      "toCodePoint": 552,
      "type": "marks"
     }
    ]
   },
   "source": [
    "1.Id: Kolom ini berisi nilai-nilai integer yang mewakili identifikasi unik untuk setiap entri.\r\n",
    "2.SepalLengthCm: Kolom ini berisi nilai panjang sepal (bagian daun) dalam satuan sentimeter.\r\n",
    "3.SepalWidthCm: Kolom ini berisi nilai lebar sepal dalam satuan sentimeter.\r\n",
    "4.petallengthcm: Kolom ini berisi nilai panjang kelopak bunga dalam satuan sentimeter.\r\n",
    "5.petalwidthcm: Kolom ini berisi nilai lebar kelopak bunga dalam satuan sentimeter.\r\n",
    "6.species: Kolom ini berisi informasi tentang spesies bunga (misalnya, “setosa”, “versicolor”, atau “virginica”)"
   ]
  },
  {
   "block_group": "b5b80b432158481b84e01dc03c668e56",
   "cell_type": "markdown",
   "metadata": {
    "cell_id": "8f31f1757a6748a6b1066387f5ede566",
    "deepnote_cell_type": "text-cell-p",
    "formattedRanges": []
   },
   "source": [
    "DataFrame ini tampaknya berisi data tentang bunga iris. Data ini dapat digunakan untuk analisis atau pemodelan lebih lanjut. Jika Anda memiliki pertanyaan lebih lanjut tentang DataFrame ini, jangan ragu untuk bertanya!"
   ]
  },
  {
   "block_group": "ccd6e73c640848df9d41401593bf0861",
   "cell_type": "markdown",
   "metadata": {
    "cell_id": "51a5150ece1b4c1b8c315411449dbc8c",
    "deepnote_cell_type": "text-cell-p",
    "formattedRanges": []
   },
   "source": []
  },
  {
   "block_group": "0fb51dd21ba8426ca9d826426ffce56c",
   "cell_type": "code",
   "execution_count": 6,
   "metadata": {
    "cell_id": "dc54537ad69743798140adbcb98f9663",
    "deepnote_cell_type": "code",
    "deepnote_to_be_reexecuted": false,
    "execution_millis": 456,
    "execution_start": 1710390205606,
    "source_hash": "3ac76143"
   },
   "outputs": [
    {
     "data": {
      "text/plain": [
       "species\n",
       "Iris-setosa        50\n",
       "Iris-versicolor    50\n",
       "Iris-virginica     50\n",
       "Name: count, dtype: int64"
      ]
     },
     "execution_count": 6,
     "metadata": {},
     "output_type": "execute_result"
    }
   ],
   "outputs_reference": "dbtable:cell_outputs/a531bdbd-fc01-458b-b8d1-bb6d67ddcc91",
   "source": [
    "df.value_counts('species')"
   ]
  },
  {
   "block_group": "2d53daa851ef4c8aa62f6386d2575841",
   "cell_type": "markdown",
   "metadata": {
    "cell_id": "58301ea31f274505a9f231a62add5567",
    "deepnote_cell_type": "text-cell-p",
    "formattedRanges": []
   },
   "source": [
    "Dari kode program diatas. dapat diketahui bahwa terdapat tiga jenis bunga iris berdasarkan data yang sudah kita analisa."
   ]
  },
  {
   "block_group": "290585765f5d4a4791b0e080a098cab2",
   "cell_type": "markdown",
   "metadata": {
    "cell_id": "4f5a23d39c4d416fa9e3b4cab9fd775a",
    "deepnote_cell_type": "text-cell-h2",
    "formattedRanges": []
   },
   "source": [
    "## Percobaan melakukan mising value"
   ]
  },
  {
   "block_group": "de411a441ce9438f962c223d359a9857",
   "cell_type": "markdown",
   "metadata": {
    "cell_id": "8b496e3e8b7041bda4a9724ccb9f3842",
    "deepnote_cell_type": "text-cell-p",
    "formattedRanges": []
   },
   "source": [
    "Pada tahap ini, kita akan melakukan percobaan dengan menghapus lima nilai dari beberapa baris data. Dengan demikian, kita secara tidak langsung mensimulasikan situasi di mana data memiliki nilai yang hilang atau missing value."
   ]
  },
  {
   "block_group": "8ba01df4b3e64fbeaf4824312a44e2d0",
   "cell_type": "markdown",
   "metadata": {
    "cell_id": "6537ca369c0c49f28b73afccca7baca0",
    "deepnote_cell_type": "text-cell-p",
    "formattedRanges": []
   },
   "source": [
    "Dalam analisis data, menghadapi nilai yang hilang adalah tantangan yang umum. Simulasi ini memungkinkan kita untuk memahami bagaimana model atau metode yang kita gunakan akan berperilaku ketika menghadapi data yang tidak lengkap. Dengan memahami cara mengelola nilai yang hilang, kita dapat mengambil keputusan yang lebih baik dalam pemodelan dan analisis data"
   ]
  },
  {
   "block_group": "a0877e3896724390949b6856de93c155",
   "cell_type": "markdown",
   "metadata": {
    "cell_id": "0c50da61dcec4cca9d0e2279bd0796ac",
    "deepnote_cell_type": "text-cell-h2",
    "formattedRanges": []
   },
   "source": [
    "## Menghapus value dari baris"
   ]
  },
  {
   "block_group": "afcbe30535e7498e8e8f421b0bb87177",
   "cell_type": "code",
   "execution_count": 7,
   "metadata": {
    "cell_id": "f2ddf7e8a4d34bb59d02925f7131ca25",
    "deepnote_cell_type": "code",
    "deepnote_table_loading": false,
    "deepnote_table_state": {
     "filters": [],
     "pageIndex": 0,
     "pageSize": 10,
     "sortBy": []
    },
    "deepnote_to_be_reexecuted": false,
    "execution_millis": 410,
    "execution_start": 1710390205652,
    "source_hash": "6a6e0bda"
   },
   "outputs": [
    {
     "data": {
      "application/vnd.deepnote.dataframe.v3+json": {
       "column_count": 7,
       "columns": [
        {
         "dtype": "int64",
         "name": "Id",
         "stats": {
          "histogram": [
           {
            "bin_end": 15.9,
            "bin_start": 1,
            "count": 15
           },
           {
            "bin_end": 30.8,
            "bin_start": 15.9,
            "count": 15
           },
           {
            "bin_end": 45.7,
            "bin_start": 30.8,
            "count": 15
           },
           {
            "bin_end": 60.6,
            "bin_start": 45.7,
            "count": 15
           },
           {
            "bin_end": 75.5,
            "bin_start": 60.6,
            "count": 15
           },
           {
            "bin_end": 90.4,
            "bin_start": 75.5,
            "count": 15
           },
           {
            "bin_end": 105.3,
            "bin_start": 90.4,
            "count": 15
           },
           {
            "bin_end": 120.2,
            "bin_start": 105.3,
            "count": 15
           },
           {
            "bin_end": 135.1,
            "bin_start": 120.2,
            "count": 15
           },
           {
            "bin_end": 150,
            "bin_start": 135.1,
            "count": 15
           }
          ],
          "max": "150",
          "min": "1",
          "nan_count": 0,
          "unique_count": 150
         }
        },
        {
         "dtype": "float64",
         "name": "SepalLengthCm",
         "stats": {
          "histogram": [
           {
            "bin_end": 4.66,
            "bin_start": 4.3,
            "count": 9
           },
           {
            "bin_end": 5.02,
            "bin_start": 4.66,
            "count": 21
           },
           {
            "bin_end": 5.38,
            "bin_start": 5.02,
            "count": 14
           },
           {
            "bin_end": 5.74,
            "bin_start": 5.38,
            "count": 26
           },
           {
            "bin_end": 6.1,
            "bin_start": 5.74,
            "count": 15
           },
           {
            "bin_end": 6.46,
            "bin_start": 6.1,
            "count": 25
           },
           {
            "bin_end": 6.82,
            "bin_start": 6.46,
            "count": 18
           },
           {
            "bin_end": 7.18,
            "bin_start": 6.82,
            "count": 6
           },
           {
            "bin_end": 7.54,
            "bin_start": 7.18,
            "count": 5
           },
           {
            "bin_end": 7.9,
            "bin_start": 7.54,
            "count": 6
           }
          ],
          "max": "7.9",
          "min": "4.3",
          "nan_count": 5,
          "unique_count": 35
         }
        },
        {
         "dtype": "float64",
         "name": "SepalWidthCm",
         "stats": {
          "histogram": [
           {
            "bin_end": 2.24,
            "bin_start": 2,
            "count": 4
           },
           {
            "bin_end": 2.48,
            "bin_start": 2.24,
            "count": 7
           },
           {
            "bin_end": 2.72,
            "bin_start": 2.48,
            "count": 22
           },
           {
            "bin_end": 2.96,
            "bin_start": 2.72,
            "count": 24
           },
           {
            "bin_end": 3.2,
            "bin_start": 2.96,
            "count": 38
           },
           {
            "bin_end": 3.4400000000000004,
            "bin_start": 3.2,
            "count": 31
           },
           {
            "bin_end": 3.6800000000000006,
            "bin_start": 3.4400000000000004,
            "count": 9
           },
           {
            "bin_end": 3.9200000000000004,
            "bin_start": 3.6800000000000006,
            "count": 11
           },
           {
            "bin_end": 4.16,
            "bin_start": 3.9200000000000004,
            "count": 2
           },
           {
            "bin_end": 4.4,
            "bin_start": 4.16,
            "count": 2
           }
          ],
          "max": "4.4",
          "min": "2.0",
          "nan_count": 0,
          "unique_count": 23
         }
        },
        {
         "dtype": "float64",
         "name": "petallengthcm",
         "stats": {
          "histogram": [
           {
            "bin_end": 1.59,
            "bin_start": 1,
            "count": 37
           },
           {
            "bin_end": 2.18,
            "bin_start": 1.59,
            "count": 13
           },
           {
            "bin_end": 2.7700000000000005,
            "bin_start": 2.18,
            "count": 0
           },
           {
            "bin_end": 3.3600000000000003,
            "bin_start": 2.7700000000000005,
            "count": 3
           },
           {
            "bin_end": 3.95,
            "bin_start": 3.3600000000000003,
            "count": 8
           },
           {
            "bin_end": 4.540000000000001,
            "bin_start": 3.95,
            "count": 26
           },
           {
            "bin_end": 5.130000000000001,
            "bin_start": 4.540000000000001,
            "count": 29
           },
           {
            "bin_end": 5.720000000000001,
            "bin_start": 5.130000000000001,
            "count": 18
           },
           {
            "bin_end": 6.3100000000000005,
            "bin_start": 5.720000000000001,
            "count": 11
           },
           {
            "bin_end": 6.9,
            "bin_start": 6.3100000000000005,
            "count": 5
           }
          ],
          "max": "6.9",
          "min": "1.0",
          "nan_count": 0,
          "unique_count": 43
         }
        },
        {
         "dtype": "float64",
         "name": "petalwidthcm",
         "stats": {
          "histogram": [
           {
            "bin_end": 0.33999999999999997,
            "bin_start": 0.1,
            "count": 41
           },
           {
            "bin_end": 0.58,
            "bin_start": 0.33999999999999997,
            "count": 8
           },
           {
            "bin_end": 0.82,
            "bin_start": 0.58,
            "count": 1
           },
           {
            "bin_end": 1.06,
            "bin_start": 0.82,
            "count": 7
           },
           {
            "bin_end": 1.3,
            "bin_start": 1.06,
            "count": 8
           },
           {
            "bin_end": 1.54,
            "bin_start": 1.3,
            "count": 33
           },
           {
            "bin_end": 1.78,
            "bin_start": 1.54,
            "count": 6
           },
           {
            "bin_end": 2.02,
            "bin_start": 1.78,
            "count": 23
           },
           {
            "bin_end": 2.2600000000000002,
            "bin_start": 2.02,
            "count": 9
           },
           {
            "bin_end": 2.5,
            "bin_start": 2.2600000000000002,
            "count": 14
           }
          ],
          "max": "2.5",
          "min": "0.1",
          "nan_count": 0,
          "unique_count": 22
         }
        },
        {
         "dtype": "object",
         "name": "species",
         "stats": {
          "categories": [
           {
            "count": 50,
            "name": "Iris-setosa"
           },
           {
            "count": 50,
            "name": "Iris-versicolor"
           },
           {
            "count": 50,
            "name": "Iris-virginica"
           }
          ],
          "nan_count": 0,
          "unique_count": 3
         }
        },
        {
         "dtype": "float64",
         "name": "PetalWidthCm",
         "stats": {
          "histogram": [
           {
            "bin_end": 0.1,
            "bin_start": 0,
            "count": 0
           },
           {
            "bin_end": 0.2,
            "bin_start": 0.1,
            "count": 0
           },
           {
            "bin_end": 0.30000000000000004,
            "bin_start": 0.2,
            "count": 0
           },
           {
            "bin_end": 0.4,
            "bin_start": 0.30000000000000004,
            "count": 0
           },
           {
            "bin_end": 0.5,
            "bin_start": 0.4,
            "count": 0
           },
           {
            "bin_end": 0.6000000000000001,
            "bin_start": 0.5,
            "count": 0
           },
           {
            "bin_end": 0.7000000000000001,
            "bin_start": 0.6000000000000001,
            "count": 0
           },
           {
            "bin_end": 0.8,
            "bin_start": 0.7000000000000001,
            "count": 0
           },
           {
            "bin_end": 0.9,
            "bin_start": 0.8,
            "count": 0
           },
           {
            "bin_end": 1,
            "bin_start": 0.9,
            "count": 0
           }
          ],
          "max": null,
          "min": null,
          "nan_count": 150,
          "unique_count": 0
         }
        },
        {
         "dtype": "int64",
         "name": "_deepnote_index_column"
        }
       ],
       "row_count": 150,
       "rows": [
        {
         "Id": 1,
         "PetalWidthCm": "nan",
         "SepalLengthCm": 5.1,
         "SepalWidthCm": 3.5,
         "_deepnote_index_column": 0,
         "petallengthcm": 1.4,
         "petalwidthcm": 0.2,
         "species": "Iris-setosa"
        },
        {
         "Id": 2,
         "PetalWidthCm": "nan",
         "SepalLengthCm": 4.9,
         "SepalWidthCm": 3,
         "_deepnote_index_column": 1,
         "petallengthcm": 1.4,
         "petalwidthcm": 0.2,
         "species": "Iris-setosa"
        },
        {
         "Id": 3,
         "PetalWidthCm": "nan",
         "SepalLengthCm": 4.7,
         "SepalWidthCm": 3.2,
         "_deepnote_index_column": 2,
         "petallengthcm": 1.3,
         "petalwidthcm": 0.2,
         "species": "Iris-setosa"
        },
        {
         "Id": 4,
         "PetalWidthCm": "nan",
         "SepalLengthCm": 4.6,
         "SepalWidthCm": 3.1,
         "_deepnote_index_column": 3,
         "petallengthcm": 1.5,
         "petalwidthcm": 0.2,
         "species": "Iris-setosa"
        },
        {
         "Id": 5,
         "PetalWidthCm": "nan",
         "SepalLengthCm": 5,
         "SepalWidthCm": 3.6,
         "_deepnote_index_column": 4,
         "petallengthcm": 1.4,
         "petalwidthcm": 0.2,
         "species": "Iris-setosa"
        },
        {
         "Id": 6,
         "PetalWidthCm": "nan",
         "SepalLengthCm": 5.4,
         "SepalWidthCm": 3.9,
         "_deepnote_index_column": 5,
         "petallengthcm": 1.7,
         "petalwidthcm": 0.4,
         "species": "Iris-setosa"
        },
        {
         "Id": 7,
         "PetalWidthCm": "nan",
         "SepalLengthCm": 4.6,
         "SepalWidthCm": 3.4,
         "_deepnote_index_column": 6,
         "petallengthcm": 1.4,
         "petalwidthcm": 0.3,
         "species": "Iris-setosa"
        },
        {
         "Id": 8,
         "PetalWidthCm": "nan",
         "SepalLengthCm": 5,
         "SepalWidthCm": 3.4,
         "_deepnote_index_column": 7,
         "petallengthcm": 1.5,
         "petalwidthcm": 0.2,
         "species": "Iris-setosa"
        },
        {
         "Id": 9,
         "PetalWidthCm": "nan",
         "SepalLengthCm": 4.4,
         "SepalWidthCm": 2.9,
         "_deepnote_index_column": 8,
         "petallengthcm": 1.4,
         "petalwidthcm": 0.2,
         "species": "Iris-setosa"
        },
        {
         "Id": 10,
         "PetalWidthCm": "nan",
         "SepalLengthCm": 4.9,
         "SepalWidthCm": 3.1,
         "_deepnote_index_column": 9,
         "petallengthcm": 1.5,
         "petalwidthcm": 0.1,
         "species": "Iris-setosa"
        }
       ]
      },
      "text/html": [
       "<div>\n",
       "<style scoped>\n",
       "    .dataframe tbody tr th:only-of-type {\n",
       "        vertical-align: middle;\n",
       "    }\n",
       "\n",
       "    .dataframe tbody tr th {\n",
       "        vertical-align: top;\n",
       "    }\n",
       "\n",
       "    .dataframe thead th {\n",
       "        text-align: right;\n",
       "    }\n",
       "</style>\n",
       "<table border=\"1\" class=\"dataframe\">\n",
       "  <thead>\n",
       "    <tr style=\"text-align: right;\">\n",
       "      <th></th>\n",
       "      <th>Id</th>\n",
       "      <th>SepalLengthCm</th>\n",
       "      <th>SepalWidthCm</th>\n",
       "      <th>petallengthcm</th>\n",
       "      <th>petalwidthcm</th>\n",
       "      <th>species</th>\n",
       "      <th>PetalWidthCm</th>\n",
       "    </tr>\n",
       "  </thead>\n",
       "  <tbody>\n",
       "    <tr>\n",
       "      <th>0</th>\n",
       "      <td>1</td>\n",
       "      <td>5.1</td>\n",
       "      <td>3.5</td>\n",
       "      <td>1.4</td>\n",
       "      <td>0.2</td>\n",
       "      <td>Iris-setosa</td>\n",
       "      <td>NaN</td>\n",
       "    </tr>\n",
       "    <tr>\n",
       "      <th>1</th>\n",
       "      <td>2</td>\n",
       "      <td>4.9</td>\n",
       "      <td>3.0</td>\n",
       "      <td>1.4</td>\n",
       "      <td>0.2</td>\n",
       "      <td>Iris-setosa</td>\n",
       "      <td>NaN</td>\n",
       "    </tr>\n",
       "    <tr>\n",
       "      <th>2</th>\n",
       "      <td>3</td>\n",
       "      <td>4.7</td>\n",
       "      <td>3.2</td>\n",
       "      <td>1.3</td>\n",
       "      <td>0.2</td>\n",
       "      <td>Iris-setosa</td>\n",
       "      <td>NaN</td>\n",
       "    </tr>\n",
       "    <tr>\n",
       "      <th>3</th>\n",
       "      <td>4</td>\n",
       "      <td>4.6</td>\n",
       "      <td>3.1</td>\n",
       "      <td>1.5</td>\n",
       "      <td>0.2</td>\n",
       "      <td>Iris-setosa</td>\n",
       "      <td>NaN</td>\n",
       "    </tr>\n",
       "    <tr>\n",
       "      <th>4</th>\n",
       "      <td>5</td>\n",
       "      <td>5.0</td>\n",
       "      <td>3.6</td>\n",
       "      <td>1.4</td>\n",
       "      <td>0.2</td>\n",
       "      <td>Iris-setosa</td>\n",
       "      <td>NaN</td>\n",
       "    </tr>\n",
       "    <tr>\n",
       "      <th>...</th>\n",
       "      <td>...</td>\n",
       "      <td>...</td>\n",
       "      <td>...</td>\n",
       "      <td>...</td>\n",
       "      <td>...</td>\n",
       "      <td>...</td>\n",
       "      <td>...</td>\n",
       "    </tr>\n",
       "    <tr>\n",
       "      <th>145</th>\n",
       "      <td>146</td>\n",
       "      <td>6.7</td>\n",
       "      <td>3.0</td>\n",
       "      <td>5.2</td>\n",
       "      <td>2.3</td>\n",
       "      <td>Iris-virginica</td>\n",
       "      <td>NaN</td>\n",
       "    </tr>\n",
       "    <tr>\n",
       "      <th>146</th>\n",
       "      <td>147</td>\n",
       "      <td>6.3</td>\n",
       "      <td>2.5</td>\n",
       "      <td>5.0</td>\n",
       "      <td>1.9</td>\n",
       "      <td>Iris-virginica</td>\n",
       "      <td>NaN</td>\n",
       "    </tr>\n",
       "    <tr>\n",
       "      <th>147</th>\n",
       "      <td>148</td>\n",
       "      <td>6.5</td>\n",
       "      <td>3.0</td>\n",
       "      <td>5.2</td>\n",
       "      <td>2.0</td>\n",
       "      <td>Iris-virginica</td>\n",
       "      <td>NaN</td>\n",
       "    </tr>\n",
       "    <tr>\n",
       "      <th>148</th>\n",
       "      <td>149</td>\n",
       "      <td>6.2</td>\n",
       "      <td>3.4</td>\n",
       "      <td>5.4</td>\n",
       "      <td>2.3</td>\n",
       "      <td>Iris-virginica</td>\n",
       "      <td>NaN</td>\n",
       "    </tr>\n",
       "    <tr>\n",
       "      <th>149</th>\n",
       "      <td>150</td>\n",
       "      <td>NaN</td>\n",
       "      <td>3.0</td>\n",
       "      <td>5.1</td>\n",
       "      <td>1.8</td>\n",
       "      <td>Iris-virginica</td>\n",
       "      <td>NaN</td>\n",
       "    </tr>\n",
       "  </tbody>\n",
       "</table>\n",
       "<p>150 rows × 7 columns</p>\n",
       "</div>"
      ],
      "text/plain": [
       "      Id  SepalLengthCm  SepalWidthCm  petallengthcm  petalwidthcm  \\\n",
       "0      1            5.1           3.5            1.4           0.2   \n",
       "1      2            4.9           3.0            1.4           0.2   \n",
       "2      3            4.7           3.2            1.3           0.2   \n",
       "3      4            4.6           3.1            1.5           0.2   \n",
       "4      5            5.0           3.6            1.4           0.2   \n",
       "..   ...            ...           ...            ...           ...   \n",
       "145  146            6.7           3.0            5.2           2.3   \n",
       "146  147            6.3           2.5            5.0           1.9   \n",
       "147  148            6.5           3.0            5.2           2.0   \n",
       "148  149            6.2           3.4            5.4           2.3   \n",
       "149  150            NaN           3.0            5.1           1.8   \n",
       "\n",
       "            species  PetalWidthCm  \n",
       "0       Iris-setosa           NaN  \n",
       "1       Iris-setosa           NaN  \n",
       "2       Iris-setosa           NaN  \n",
       "3       Iris-setosa           NaN  \n",
       "4       Iris-setosa           NaN  \n",
       "..              ...           ...  \n",
       "145  Iris-virginica           NaN  \n",
       "146  Iris-virginica           NaN  \n",
       "147  Iris-virginica           NaN  \n",
       "148  Iris-virginica           NaN  \n",
       "149  Iris-virginica           NaN  \n",
       "\n",
       "[150 rows x 7 columns]"
      ]
     },
     "execution_count": 7,
     "metadata": {},
     "output_type": "execute_result"
    }
   ],
   "outputs_reference": "s3:deepnote-cell-outputs-production/06fbfdea-df1c-493a-856b-058db33318c8",
   "source": [
    "df.loc[df[\"Id\"] == 50, 'SepalLengthCm'] = None\n",
    "df.loc[df[\"Id\"] == 100, 'SepalLengthCm'] = None\n",
    "df.loc[df[\"Id\"] == 150, 'SepalLengthCm'] = None\n",
    "\n",
    "# dua fitur pada \n",
    "df.loc[df[\"Id\"] == 25, ['SepalLengthCm','PetalWidthCm']] = None\n",
    "df.loc[df[\"Id\"] == 75, ['SepalLengthCm','PetalWidthCm']] = None\n",
    "\n",
    "df"
   ]
  },
  {
   "block_group": "1fa1dbb6efc4432a9fc8c0763c439dc9",
   "cell_type": "markdown",
   "metadata": {
    "cell_id": "0536f9c61d124d66a4e0bb7a49060980",
    "deepnote_cell_type": "text-cell-h2",
    "formattedRanges": []
   },
   "source": [
    "## Menampilkan fitur yang memiliki missing value"
   ]
  },
  {
   "block_group": "de3aa66495514e8a8cad2a967cb453da",
   "cell_type": "code",
   "execution_count": 8,
   "metadata": {
    "cell_id": "ee3428bc543a48469b69ed0cd2103235",
    "deepnote_cell_type": "code",
    "deepnote_to_be_reexecuted": false,
    "execution_millis": 393,
    "execution_start": 1710390205669,
    "source_hash": "f3dd26da"
   },
   "outputs": [
    {
     "data": {
      "text/plain": [
       "Id                 0\n",
       "SepalLengthCm      5\n",
       "SepalWidthCm       0\n",
       "petallengthcm      0\n",
       "petalwidthcm       0\n",
       "species            0\n",
       "PetalWidthCm     150\n",
       "dtype: int64"
      ]
     },
     "execution_count": 8,
     "metadata": {},
     "output_type": "execute_result"
    }
   ],
   "outputs_reference": "dbtable:cell_outputs/7b1220fe-be8a-4768-a746-42daf4f4f6b3",
   "source": [
    "df.isnull().sum()"
   ]
  },
  {
   "block_group": "24463fe75c314d3a81ae081e12d54211",
   "cell_type": "markdown",
   "metadata": {
    "cell_id": "8927e66ccfe24d5d9a34d8efb2544ff6",
    "deepnote_cell_type": "text-cell-p",
    "formattedRanges": []
   },
   "source": [
    "Dari kode di atas, kita dapat melihat bahwa terdapat nilai yang hilang (missing value) pada dua fitur:"
   ]
  },
  {
   "block_group": "a4b4019ec96f45d68f2588e395167c39",
   "cell_type": "markdown",
   "metadata": {
    "cell_id": "440983ae160d4ddc8e5fb4f8a1d50179",
    "deepnote_cell_type": "text-cell-p",
    "formattedRanges": []
   },
   "source": [
    "1. SepalLengthCm: Terdapat lima baris yang memiliki nilai yang hilang pada fitur ini.\r\n",
    "2. PetalWidthCm: Terdapat dua baris yang memiliki nilai yang hilang pada fitur ini."
   ]
  },
  {
   "block_group": "47dbb633ce13431dbdbfdea2c480b547",
   "cell_type": "markdown",
   "metadata": {
    "cell_id": "6b2668cf74344358bf612a9e471bd18c",
    "deepnote_cell_type": "text-cell-p",
    "formattedRanges": []
   },
   "source": [
    "Dalam analisis data, mengelola nilai yang hilang adalah langkah penting untuk memastikan hasil yang akurat dan konsisten"
   ]
  },
  {
   "block_group": "c7e1ea504a8648cbacd20a292bb6a30d",
   "cell_type": "markdown",
   "metadata": {
    "cell_id": "7b2d47cc4ffa451f830b36fa9b46cdd5",
    "deepnote_cell_type": "text-cell-p",
    "formattedRanges": []
   },
   "source": [
    "Data preprocessing dalam data mining memainkan peran yang sangat penting. Pada tahapan ini, data mentah (raw data) diolah sehingga dapat diubah menjadi data yang dapat dianalisis lebih lanjut."
   ]
  },
  {
   "block_group": "00c67e5cf8f94867b132fec88ef52ec0",
   "cell_type": "markdown",
   "metadata": {
    "cell_id": "9f56d7eb46da4197b41be58ee78cf19a",
    "deepnote_cell_type": "text-cell-h2",
    "formattedRanges": []
   },
   "source": [
    "## Pra-pemrosesan Data (Data Preprocessing)"
   ]
  },
  {
   "block_group": "e8285ac8e175406f81d23847fad97156",
   "cell_type": "markdown",
   "metadata": {
    "cell_id": "fb755d6d401b443ea0dd557e2a10092a",
    "deepnote_cell_type": "text-cell-p",
    "formattedRanges": []
   },
   "source": [
    "Berikut adalah empat tahap pra-pemrosesan data:"
   ]
  },
  {
   "block_group": "8642fbf8c6944c2dba7feff811cae637",
   "cell_type": "markdown",
   "metadata": {
    "cell_id": "f597c287f46f4f46aef8668a4b34cfed",
    "deepnote_cell_type": "text-cell-p",
    "formattedRanges": []
   },
   "source": [
    "1. Pembersihan Data (Data Cleaning):\r\n",
    "    - Pada tahap ini, data mentah yang diperoleh harus diseleksi dengan menghapus data yang tidak relevan, tidak lengkap, atau tidak akurat. Tujuannya adalah untuk mengurangi kesalahan interpretasi data."
   ]
  },
  {
   "block_group": "8f2da8532dbb490d81787018321045fc",
   "cell_type": "markdown",
   "metadata": {
    "cell_id": "aff6375c8d1248098eca321b6dcfed3f",
    "deepnote_cell_type": "text-cell-p",
    "formattedRanges": []
   },
   "source": [
    "2. Penggabungan Data (Data Integration):\r\n",
    "    - Data dari berbagai sumber yang berbeda digabungkan menjadi satu dataset. Penting untuk memastikan bahwa sumber data memiliki format yang seragam."
   ]
  },
  {
   "block_group": "4eada388b5f049ebb51cf9355a7b1b16",
   "cell_type": "markdown",
   "metadata": {
    "cell_id": "8fb652e9bc154147b6541dd9f0412065",
    "deepnote_cell_type": "text-cell-p",
    "formattedRanges": []
   },
   "source": [
    "3. Transformasi Data (Data Transformation):\r\n",
    "    - Setelah proses penggabungan data dari berbagai sumber, langkah selanjutnya adalah melakukan transformasi data. Ini diperlukan karena kemungkinan data yang diambil memiliki perbedaan format. Dengan menyamakan format data, proses analisis lebih mudah dilakukan."
   ]
  },
  {
   "block_group": "87c39a4aed1e4126b28aab8426e42b15",
   "cell_type": "markdown",
   "metadata": {
    "cell_id": "487d2b2e4b894f81824347403f6bc383",
    "deepnote_cell_type": "text-cell-p",
    "formattedRanges": []
   },
   "source": [
    "4. Pengurangan Data (Data Reduction):\r\n",
    "    - Tahap terakhir adalah mengurangi jumlah data. Meskipun kita mengurangi sampel data, hal ini tidak boleh mengubah hasil analisis. Ada tiga cara yang umum digunakan:\r\n",
    "        - Mengurangi Dimensi: Mengurangi jumlah fitur atau variabel yang digunakan.\r\n",
    "        - Pengurangan Jumlah Data: Mengambil sampel data yang lebih kecil.\r\n",
    "        - Kompresi Data: Mengurangi ukuran data tanpa menghilangkan informasi penting."
   ]
  },
  {
   "block_group": "d57bd8fe766343d990ae7aedee39833d",
   "cell_type": "markdown",
   "metadata": {
    "cell_id": "92db96c690144176a3ea915c2e1c33a1",
    "deepnote_cell_type": "text-cell-p",
    "formattedRanges": []
   },
   "source": [
    "Semua tahapan ini membantu memastikan bahwa data yang digunakan untuk analisis lebih lanjut adalah data yang berkualitas "
   ]
  },
  {
   "block_group": "90f8e621468e4cb2a3b775b8c4f99671",
   "cell_type": "markdown",
   "metadata": {
    "cell_id": "8c6232b949a84650b8e5101148656ba1",
    "deepnote_cell_type": "text-cell-h2",
    "formattedRanges": []
   },
   "source": [
    "## 1. Pembersihan Data (Data Cleaning)"
   ]
  },
  {
   "block_group": "51d97b4b68fa4468a78cb3a6609b879e",
   "cell_type": "markdown",
   "metadata": {
    "cell_id": "11749788bcff4a019161439c1eb2737c",
    "deepnote_cell_type": "text-cell-h3",
    "formattedRanges": []
   },
   "source": [
    "### A.Seleksi fitur"
   ]
  },
  {
   "block_group": "7ba182bc3bc84d9a8bf589ddc3aa02a5",
   "cell_type": "code",
   "execution_count": 9,
   "metadata": {
    "cell_id": "4141178177ce4de3a0b626427f16c371",
    "deepnote_cell_type": "code",
    "deepnote_to_be_reexecuted": false,
    "execution_millis": 376,
    "execution_start": 1710390205686,
    "source_hash": "2efa4883"
   },
   "outputs": [
    {
     "data": {
      "application/vnd.deepnote.dataframe.v3+json": {
       "column_count": 6,
       "columns": [
        {
         "dtype": "float64",
         "name": "SepalLengthCm",
         "stats": {
          "histogram": [
           {
            "bin_end": 4.66,
            "bin_start": 4.3,
            "count": 9
           },
           {
            "bin_end": 5.02,
            "bin_start": 4.66,
            "count": 21
           },
           {
            "bin_end": 5.38,
            "bin_start": 5.02,
            "count": 14
           },
           {
            "bin_end": 5.74,
            "bin_start": 5.38,
            "count": 26
           },
           {
            "bin_end": 6.1,
            "bin_start": 5.74,
            "count": 15
           },
           {
            "bin_end": 6.46,
            "bin_start": 6.1,
            "count": 25
           },
           {
            "bin_end": 6.82,
            "bin_start": 6.46,
            "count": 18
           },
           {
            "bin_end": 7.18,
            "bin_start": 6.82,
            "count": 6
           },
           {
            "bin_end": 7.54,
            "bin_start": 7.18,
            "count": 5
           },
           {
            "bin_end": 7.9,
            "bin_start": 7.54,
            "count": 6
           }
          ],
          "max": "7.9",
          "min": "4.3",
          "nan_count": 5,
          "unique_count": 35
         }
        },
        {
         "dtype": "float64",
         "name": "SepalWidthCm",
         "stats": {
          "histogram": [
           {
            "bin_end": 2.24,
            "bin_start": 2,
            "count": 4
           },
           {
            "bin_end": 2.48,
            "bin_start": 2.24,
            "count": 7
           },
           {
            "bin_end": 2.72,
            "bin_start": 2.48,
            "count": 22
           },
           {
            "bin_end": 2.96,
            "bin_start": 2.72,
            "count": 24
           },
           {
            "bin_end": 3.2,
            "bin_start": 2.96,
            "count": 38
           },
           {
            "bin_end": 3.4400000000000004,
            "bin_start": 3.2,
            "count": 31
           },
           {
            "bin_end": 3.6800000000000006,
            "bin_start": 3.4400000000000004,
            "count": 9
           },
           {
            "bin_end": 3.9200000000000004,
            "bin_start": 3.6800000000000006,
            "count": 11
           },
           {
            "bin_end": 4.16,
            "bin_start": 3.9200000000000004,
            "count": 2
           },
           {
            "bin_end": 4.4,
            "bin_start": 4.16,
            "count": 2
           }
          ],
          "max": "4.4",
          "min": "2.0",
          "nan_count": 0,
          "unique_count": 23
         }
        },
        {
         "dtype": "float64",
         "name": "petallengthcm",
         "stats": {
          "histogram": [
           {
            "bin_end": 1.59,
            "bin_start": 1,
            "count": 37
           },
           {
            "bin_end": 2.18,
            "bin_start": 1.59,
            "count": 13
           },
           {
            "bin_end": 2.7700000000000005,
            "bin_start": 2.18,
            "count": 0
           },
           {
            "bin_end": 3.3600000000000003,
            "bin_start": 2.7700000000000005,
            "count": 3
           },
           {
            "bin_end": 3.95,
            "bin_start": 3.3600000000000003,
            "count": 8
           },
           {
            "bin_end": 4.540000000000001,
            "bin_start": 3.95,
            "count": 26
           },
           {
            "bin_end": 5.130000000000001,
            "bin_start": 4.540000000000001,
            "count": 29
           },
           {
            "bin_end": 5.720000000000001,
            "bin_start": 5.130000000000001,
            "count": 18
           },
           {
            "bin_end": 6.3100000000000005,
            "bin_start": 5.720000000000001,
            "count": 11
           },
           {
            "bin_end": 6.9,
            "bin_start": 6.3100000000000005,
            "count": 5
           }
          ],
          "max": "6.9",
          "min": "1.0",
          "nan_count": 0,
          "unique_count": 43
         }
        },
        {
         "dtype": "float64",
         "name": "petalwidthcm",
         "stats": {
          "histogram": [
           {
            "bin_end": 0.33999999999999997,
            "bin_start": 0.1,
            "count": 41
           },
           {
            "bin_end": 0.58,
            "bin_start": 0.33999999999999997,
            "count": 8
           },
           {
            "bin_end": 0.82,
            "bin_start": 0.58,
            "count": 1
           },
           {
            "bin_end": 1.06,
            "bin_start": 0.82,
            "count": 7
           },
           {
            "bin_end": 1.3,
            "bin_start": 1.06,
            "count": 8
           },
           {
            "bin_end": 1.54,
            "bin_start": 1.3,
            "count": 33
           },
           {
            "bin_end": 1.78,
            "bin_start": 1.54,
            "count": 6
           },
           {
            "bin_end": 2.02,
            "bin_start": 1.78,
            "count": 23
           },
           {
            "bin_end": 2.2600000000000002,
            "bin_start": 2.02,
            "count": 9
           },
           {
            "bin_end": 2.5,
            "bin_start": 2.2600000000000002,
            "count": 14
           }
          ],
          "max": "2.5",
          "min": "0.1",
          "nan_count": 0,
          "unique_count": 22
         }
        },
        {
         "dtype": "object",
         "name": "species",
         "stats": {
          "categories": [
           {
            "count": 50,
            "name": "Iris-setosa"
           },
           {
            "count": 50,
            "name": "Iris-versicolor"
           },
           {
            "count": 50,
            "name": "Iris-virginica"
           }
          ],
          "nan_count": 0,
          "unique_count": 3
         }
        },
        {
         "dtype": "float64",
         "name": "PetalWidthCm",
         "stats": {
          "histogram": [
           {
            "bin_end": 0.1,
            "bin_start": 0,
            "count": 0
           },
           {
            "bin_end": 0.2,
            "bin_start": 0.1,
            "count": 0
           },
           {
            "bin_end": 0.30000000000000004,
            "bin_start": 0.2,
            "count": 0
           },
           {
            "bin_end": 0.4,
            "bin_start": 0.30000000000000004,
            "count": 0
           },
           {
            "bin_end": 0.5,
            "bin_start": 0.4,
            "count": 0
           },
           {
            "bin_end": 0.6000000000000001,
            "bin_start": 0.5,
            "count": 0
           },
           {
            "bin_end": 0.7000000000000001,
            "bin_start": 0.6000000000000001,
            "count": 0
           },
           {
            "bin_end": 0.8,
            "bin_start": 0.7000000000000001,
            "count": 0
           },
           {
            "bin_end": 0.9,
            "bin_start": 0.8,
            "count": 0
           },
           {
            "bin_end": 1,
            "bin_start": 0.9,
            "count": 0
           }
          ],
          "max": null,
          "min": null,
          "nan_count": 150,
          "unique_count": 0
         }
        },
        {
         "dtype": "int64",
         "name": "_deepnote_index_column"
        }
       ],
       "row_count": 150,
       "rows": [
        {
         "PetalWidthCm": "nan",
         "SepalLengthCm": 5.1,
         "SepalWidthCm": 3.5,
         "_deepnote_index_column": 0,
         "petallengthcm": 1.4,
         "petalwidthcm": 0.2,
         "species": "Iris-setosa"
        },
        {
         "PetalWidthCm": "nan",
         "SepalLengthCm": 4.9,
         "SepalWidthCm": 3,
         "_deepnote_index_column": 1,
         "petallengthcm": 1.4,
         "petalwidthcm": 0.2,
         "species": "Iris-setosa"
        },
        {
         "PetalWidthCm": "nan",
         "SepalLengthCm": 4.7,
         "SepalWidthCm": 3.2,
         "_deepnote_index_column": 2,
         "petallengthcm": 1.3,
         "petalwidthcm": 0.2,
         "species": "Iris-setosa"
        },
        {
         "PetalWidthCm": "nan",
         "SepalLengthCm": 4.6,
         "SepalWidthCm": 3.1,
         "_deepnote_index_column": 3,
         "petallengthcm": 1.5,
         "petalwidthcm": 0.2,
         "species": "Iris-setosa"
        },
        {
         "PetalWidthCm": "nan",
         "SepalLengthCm": 5,
         "SepalWidthCm": 3.6,
         "_deepnote_index_column": 4,
         "petallengthcm": 1.4,
         "petalwidthcm": 0.2,
         "species": "Iris-setosa"
        },
        {
         "PetalWidthCm": "nan",
         "SepalLengthCm": 5.4,
         "SepalWidthCm": 3.9,
         "_deepnote_index_column": 5,
         "petallengthcm": 1.7,
         "petalwidthcm": 0.4,
         "species": "Iris-setosa"
        },
        {
         "PetalWidthCm": "nan",
         "SepalLengthCm": 4.6,
         "SepalWidthCm": 3.4,
         "_deepnote_index_column": 6,
         "petallengthcm": 1.4,
         "petalwidthcm": 0.3,
         "species": "Iris-setosa"
        },
        {
         "PetalWidthCm": "nan",
         "SepalLengthCm": 5,
         "SepalWidthCm": 3.4,
         "_deepnote_index_column": 7,
         "petallengthcm": 1.5,
         "petalwidthcm": 0.2,
         "species": "Iris-setosa"
        },
        {
         "PetalWidthCm": "nan",
         "SepalLengthCm": 4.4,
         "SepalWidthCm": 2.9,
         "_deepnote_index_column": 8,
         "petallengthcm": 1.4,
         "petalwidthcm": 0.2,
         "species": "Iris-setosa"
        },
        {
         "PetalWidthCm": "nan",
         "SepalLengthCm": 4.9,
         "SepalWidthCm": 3.1,
         "_deepnote_index_column": 9,
         "petallengthcm": 1.5,
         "petalwidthcm": 0.1,
         "species": "Iris-setosa"
        }
       ]
      },
      "text/html": [
       "<div>\n",
       "<style scoped>\n",
       "    .dataframe tbody tr th:only-of-type {\n",
       "        vertical-align: middle;\n",
       "    }\n",
       "\n",
       "    .dataframe tbody tr th {\n",
       "        vertical-align: top;\n",
       "    }\n",
       "\n",
       "    .dataframe thead th {\n",
       "        text-align: right;\n",
       "    }\n",
       "</style>\n",
       "<table border=\"1\" class=\"dataframe\">\n",
       "  <thead>\n",
       "    <tr style=\"text-align: right;\">\n",
       "      <th></th>\n",
       "      <th>SepalLengthCm</th>\n",
       "      <th>SepalWidthCm</th>\n",
       "      <th>petallengthcm</th>\n",
       "      <th>petalwidthcm</th>\n",
       "      <th>species</th>\n",
       "      <th>PetalWidthCm</th>\n",
       "    </tr>\n",
       "  </thead>\n",
       "  <tbody>\n",
       "    <tr>\n",
       "      <th>0</th>\n",
       "      <td>5.1</td>\n",
       "      <td>3.5</td>\n",
       "      <td>1.4</td>\n",
       "      <td>0.2</td>\n",
       "      <td>Iris-setosa</td>\n",
       "      <td>NaN</td>\n",
       "    </tr>\n",
       "    <tr>\n",
       "      <th>1</th>\n",
       "      <td>4.9</td>\n",
       "      <td>3.0</td>\n",
       "      <td>1.4</td>\n",
       "      <td>0.2</td>\n",
       "      <td>Iris-setosa</td>\n",
       "      <td>NaN</td>\n",
       "    </tr>\n",
       "    <tr>\n",
       "      <th>2</th>\n",
       "      <td>4.7</td>\n",
       "      <td>3.2</td>\n",
       "      <td>1.3</td>\n",
       "      <td>0.2</td>\n",
       "      <td>Iris-setosa</td>\n",
       "      <td>NaN</td>\n",
       "    </tr>\n",
       "    <tr>\n",
       "      <th>3</th>\n",
       "      <td>4.6</td>\n",
       "      <td>3.1</td>\n",
       "      <td>1.5</td>\n",
       "      <td>0.2</td>\n",
       "      <td>Iris-setosa</td>\n",
       "      <td>NaN</td>\n",
       "    </tr>\n",
       "    <tr>\n",
       "      <th>4</th>\n",
       "      <td>5.0</td>\n",
       "      <td>3.6</td>\n",
       "      <td>1.4</td>\n",
       "      <td>0.2</td>\n",
       "      <td>Iris-setosa</td>\n",
       "      <td>NaN</td>\n",
       "    </tr>\n",
       "    <tr>\n",
       "      <th>...</th>\n",
       "      <td>...</td>\n",
       "      <td>...</td>\n",
       "      <td>...</td>\n",
       "      <td>...</td>\n",
       "      <td>...</td>\n",
       "      <td>...</td>\n",
       "    </tr>\n",
       "    <tr>\n",
       "      <th>145</th>\n",
       "      <td>6.7</td>\n",
       "      <td>3.0</td>\n",
       "      <td>5.2</td>\n",
       "      <td>2.3</td>\n",
       "      <td>Iris-virginica</td>\n",
       "      <td>NaN</td>\n",
       "    </tr>\n",
       "    <tr>\n",
       "      <th>146</th>\n",
       "      <td>6.3</td>\n",
       "      <td>2.5</td>\n",
       "      <td>5.0</td>\n",
       "      <td>1.9</td>\n",
       "      <td>Iris-virginica</td>\n",
       "      <td>NaN</td>\n",
       "    </tr>\n",
       "    <tr>\n",
       "      <th>147</th>\n",
       "      <td>6.5</td>\n",
       "      <td>3.0</td>\n",
       "      <td>5.2</td>\n",
       "      <td>2.0</td>\n",
       "      <td>Iris-virginica</td>\n",
       "      <td>NaN</td>\n",
       "    </tr>\n",
       "    <tr>\n",
       "      <th>148</th>\n",
       "      <td>6.2</td>\n",
       "      <td>3.4</td>\n",
       "      <td>5.4</td>\n",
       "      <td>2.3</td>\n",
       "      <td>Iris-virginica</td>\n",
       "      <td>NaN</td>\n",
       "    </tr>\n",
       "    <tr>\n",
       "      <th>149</th>\n",
       "      <td>NaN</td>\n",
       "      <td>3.0</td>\n",
       "      <td>5.1</td>\n",
       "      <td>1.8</td>\n",
       "      <td>Iris-virginica</td>\n",
       "      <td>NaN</td>\n",
       "    </tr>\n",
       "  </tbody>\n",
       "</table>\n",
       "<p>150 rows × 6 columns</p>\n",
       "</div>"
      ],
      "text/plain": [
       "     SepalLengthCm  SepalWidthCm  petallengthcm  petalwidthcm         species  \\\n",
       "0              5.1           3.5            1.4           0.2     Iris-setosa   \n",
       "1              4.9           3.0            1.4           0.2     Iris-setosa   \n",
       "2              4.7           3.2            1.3           0.2     Iris-setosa   \n",
       "3              4.6           3.1            1.5           0.2     Iris-setosa   \n",
       "4              5.0           3.6            1.4           0.2     Iris-setosa   \n",
       "..             ...           ...            ...           ...             ...   \n",
       "145            6.7           3.0            5.2           2.3  Iris-virginica   \n",
       "146            6.3           2.5            5.0           1.9  Iris-virginica   \n",
       "147            6.5           3.0            5.2           2.0  Iris-virginica   \n",
       "148            6.2           3.4            5.4           2.3  Iris-virginica   \n",
       "149            NaN           3.0            5.1           1.8  Iris-virginica   \n",
       "\n",
       "     PetalWidthCm  \n",
       "0             NaN  \n",
       "1             NaN  \n",
       "2             NaN  \n",
       "3             NaN  \n",
       "4             NaN  \n",
       "..            ...  \n",
       "145           NaN  \n",
       "146           NaN  \n",
       "147           NaN  \n",
       "148           NaN  \n",
       "149           NaN  \n",
       "\n",
       "[150 rows x 6 columns]"
      ]
     },
     "execution_count": 9,
     "metadata": {},
     "output_type": "execute_result"
    }
   ],
   "outputs_reference": "s3:deepnote-cell-outputs-production/14243450-b382-46f2-9a80-8ed12d009cb5",
   "source": [
    "df = df.drop(['Id'], axis=1)\n",
    "\n",
    "df"
   ]
  },
  {
   "block_group": "c9e2dfdeaf7942f7a107235bd20171bd",
   "cell_type": "markdown",
   "metadata": {
    "cell_id": "6b06dfa2d7a04795bec8184f585bd0e4",
    "deepnote_cell_type": "text-cell-p",
    "formattedRanges": []
   },
   "source": [
    "seleksi fitur dilakukan untuk menghapus kolom atau fitur yang tidak relevan atau tidak diperlukan dalam analisis atau komputasi lebih lanjut. Dalam kasus ini, kolom “Id” dihapus karena memang tidak dibutuhkan dalam proses pemodelan atau perhitungan."
   ]
  },
  {
   "block_group": "9378fdac93f042dabf8f95da00afd500",
   "cell_type": "markdown",
   "metadata": {
    "cell_id": "2830ac6405a5406c9afb6aa1a958f390",
    "deepnote_cell_type": "text-cell-p",
    "formattedRanges": []
   },
   "source": [
    "Dengan menghilangkan fitur yang tidak relevan, kita dapat meningkatkan efisiensi dan akurasi model"
   ]
  },
  {
   "block_group": "b3e868f2eaf84f9f9256a49a30adc1b6",
   "cell_type": "markdown",
   "metadata": {
    "cell_id": "1c29ff73255f4c4baa47bd0d8248fff3",
    "deepnote_cell_type": "text-cell-h3",
    "formattedRanges": []
   },
   "source": [
    "### B.Merubah nama kolom"
   ]
  },
  {
   "block_group": "e0d81b3b07a34587affdfd54fa8ca297",
   "cell_type": "code",
   "execution_count": 10,
   "metadata": {
    "cell_id": "076e465d1dcd4ae79b0391e8e8b2fe49",
    "deepnote_cell_type": "code",
    "deepnote_to_be_reexecuted": false,
    "execution_millis": 305,
    "execution_start": 1710390205758,
    "source_hash": "f201037f"
   },
   "outputs": [
    {
     "data": {
      "application/vnd.deepnote.dataframe.v3+json": {
       "column_count": 6,
       "columns": [
        {
         "dtype": "float64",
         "name": "Sepal Length",
         "stats": {
          "histogram": [
           {
            "bin_end": 4.6499999999999995,
            "bin_start": 4.6,
            "count": 1
           },
           {
            "bin_end": 4.699999999999999,
            "bin_start": 4.6499999999999995,
            "count": 0
           },
           {
            "bin_end": 4.75,
            "bin_start": 4.699999999999999,
            "count": 1
           },
           {
            "bin_end": 4.8,
            "bin_start": 4.75,
            "count": 0
           },
           {
            "bin_end": 4.85,
            "bin_start": 4.8,
            "count": 0
           },
           {
            "bin_end": 4.8999999999999995,
            "bin_start": 4.85,
            "count": 0
           },
           {
            "bin_end": 4.949999999999999,
            "bin_start": 4.8999999999999995,
            "count": 1
           },
           {
            "bin_end": 5,
            "bin_start": 4.949999999999999,
            "count": 0
           },
           {
            "bin_end": 5.05,
            "bin_start": 5,
            "count": 1
           },
           {
            "bin_end": 5.1,
            "bin_start": 5.05,
            "count": 1
           }
          ],
          "max": "5.1",
          "min": "4.6",
          "nan_count": 0,
          "unique_count": 5
         }
        },
        {
         "dtype": "float64",
         "name": "Sepal Width",
         "stats": {
          "histogram": [
           {
            "bin_end": 3.06,
            "bin_start": 3,
            "count": 1
           },
           {
            "bin_end": 3.12,
            "bin_start": 3.06,
            "count": 1
           },
           {
            "bin_end": 3.18,
            "bin_start": 3.12,
            "count": 0
           },
           {
            "bin_end": 3.24,
            "bin_start": 3.18,
            "count": 1
           },
           {
            "bin_end": 3.3,
            "bin_start": 3.24,
            "count": 0
           },
           {
            "bin_end": 3.3600000000000003,
            "bin_start": 3.3,
            "count": 0
           },
           {
            "bin_end": 3.42,
            "bin_start": 3.3600000000000003,
            "count": 0
           },
           {
            "bin_end": 3.48,
            "bin_start": 3.42,
            "count": 0
           },
           {
            "bin_end": 3.54,
            "bin_start": 3.48,
            "count": 1
           },
           {
            "bin_end": 3.6,
            "bin_start": 3.54,
            "count": 1
           }
          ],
          "max": "3.6",
          "min": "3.0",
          "nan_count": 0,
          "unique_count": 5
         }
        },
        {
         "dtype": "float64",
         "name": "petallengthcm",
         "stats": {
          "histogram": [
           {
            "bin_end": 1.32,
            "bin_start": 1.3,
            "count": 1
           },
           {
            "bin_end": 1.34,
            "bin_start": 1.32,
            "count": 0
           },
           {
            "bin_end": 1.36,
            "bin_start": 1.34,
            "count": 0
           },
           {
            "bin_end": 1.3800000000000001,
            "bin_start": 1.36,
            "count": 0
           },
           {
            "bin_end": 1.4,
            "bin_start": 1.3800000000000001,
            "count": 0
           },
           {
            "bin_end": 1.42,
            "bin_start": 1.4,
            "count": 3
           },
           {
            "bin_end": 1.44,
            "bin_start": 1.42,
            "count": 0
           },
           {
            "bin_end": 1.46,
            "bin_start": 1.44,
            "count": 0
           },
           {
            "bin_end": 1.48,
            "bin_start": 1.46,
            "count": 0
           },
           {
            "bin_end": 1.5,
            "bin_start": 1.48,
            "count": 1
           }
          ],
          "max": "1.5",
          "min": "1.3",
          "nan_count": 0,
          "unique_count": 3
         }
        },
        {
         "dtype": "float64",
         "name": "petalwidthcm",
         "stats": {
          "histogram": [
           {
            "bin_end": -0.19999999999999998,
            "bin_start": -0.3,
            "count": 0
           },
           {
            "bin_end": -0.09999999999999998,
            "bin_start": -0.19999999999999998,
            "count": 0
           },
           {
            "bin_end": 5.551115123125783e-17,
            "bin_start": -0.09999999999999998,
            "count": 0
           },
           {
            "bin_end": 0.10000000000000003,
            "bin_start": 5.551115123125783e-17,
            "count": 0
           },
           {
            "bin_end": 0.2,
            "bin_start": 0.10000000000000003,
            "count": 0
           },
           {
            "bin_end": 0.3000000000000001,
            "bin_start": 0.2,
            "count": 5
           },
           {
            "bin_end": 0.4000000000000001,
            "bin_start": 0.3000000000000001,
            "count": 0
           },
           {
            "bin_end": 0.5,
            "bin_start": 0.4000000000000001,
            "count": 0
           },
           {
            "bin_end": 0.6000000000000001,
            "bin_start": 0.5,
            "count": 0
           },
           {
            "bin_end": 0.7,
            "bin_start": 0.6000000000000001,
            "count": 0
           }
          ],
          "max": "0.2",
          "min": "0.2",
          "nan_count": 0,
          "unique_count": 1
         }
        },
        {
         "dtype": "object",
         "name": "species",
         "stats": {
          "categories": [
           {
            "count": 5,
            "name": "Iris-setosa"
           }
          ],
          "nan_count": 0,
          "unique_count": 1
         }
        },
        {
         "dtype": "float64",
         "name": "Petal Width",
         "stats": {
          "histogram": [
           {
            "bin_end": 0.1,
            "bin_start": 0,
            "count": 0
           },
           {
            "bin_end": 0.2,
            "bin_start": 0.1,
            "count": 0
           },
           {
            "bin_end": 0.30000000000000004,
            "bin_start": 0.2,
            "count": 0
           },
           {
            "bin_end": 0.4,
            "bin_start": 0.30000000000000004,
            "count": 0
           },
           {
            "bin_end": 0.5,
            "bin_start": 0.4,
            "count": 0
           },
           {
            "bin_end": 0.6000000000000001,
            "bin_start": 0.5,
            "count": 0
           },
           {
            "bin_end": 0.7000000000000001,
            "bin_start": 0.6000000000000001,
            "count": 0
           },
           {
            "bin_end": 0.8,
            "bin_start": 0.7000000000000001,
            "count": 0
           },
           {
            "bin_end": 0.9,
            "bin_start": 0.8,
            "count": 0
           },
           {
            "bin_end": 1,
            "bin_start": 0.9,
            "count": 0
           }
          ],
          "max": null,
          "min": null,
          "nan_count": 5,
          "unique_count": 0
         }
        },
        {
         "dtype": "int64",
         "name": "_deepnote_index_column"
        }
       ],
       "row_count": 5,
       "rows": [
        {
         "Petal Width": "nan",
         "Sepal Length": 5.1,
         "Sepal Width": 3.5,
         "_deepnote_index_column": 0,
         "petallengthcm": 1.4,
         "petalwidthcm": 0.2,
         "species": "Iris-setosa"
        },
        {
         "Petal Width": "nan",
         "Sepal Length": 4.9,
         "Sepal Width": 3,
         "_deepnote_index_column": 1,
         "petallengthcm": 1.4,
         "petalwidthcm": 0.2,
         "species": "Iris-setosa"
        },
        {
         "Petal Width": "nan",
         "Sepal Length": 4.7,
         "Sepal Width": 3.2,
         "_deepnote_index_column": 2,
         "petallengthcm": 1.3,
         "petalwidthcm": 0.2,
         "species": "Iris-setosa"
        },
        {
         "Petal Width": "nan",
         "Sepal Length": 4.6,
         "Sepal Width": 3.1,
         "_deepnote_index_column": 3,
         "petallengthcm": 1.5,
         "petalwidthcm": 0.2,
         "species": "Iris-setosa"
        },
        {
         "Petal Width": "nan",
         "Sepal Length": 5,
         "Sepal Width": 3.6,
         "_deepnote_index_column": 4,
         "petallengthcm": 1.4,
         "petalwidthcm": 0.2,
         "species": "Iris-setosa"
        }
       ]
      },
      "text/html": [
       "<div>\n",
       "<style scoped>\n",
       "    .dataframe tbody tr th:only-of-type {\n",
       "        vertical-align: middle;\n",
       "    }\n",
       "\n",
       "    .dataframe tbody tr th {\n",
       "        vertical-align: top;\n",
       "    }\n",
       "\n",
       "    .dataframe thead th {\n",
       "        text-align: right;\n",
       "    }\n",
       "</style>\n",
       "<table border=\"1\" class=\"dataframe\">\n",
       "  <thead>\n",
       "    <tr style=\"text-align: right;\">\n",
       "      <th></th>\n",
       "      <th>Sepal Length</th>\n",
       "      <th>Sepal Width</th>\n",
       "      <th>petallengthcm</th>\n",
       "      <th>petalwidthcm</th>\n",
       "      <th>species</th>\n",
       "      <th>Petal Width</th>\n",
       "    </tr>\n",
       "  </thead>\n",
       "  <tbody>\n",
       "    <tr>\n",
       "      <th>0</th>\n",
       "      <td>5.1</td>\n",
       "      <td>3.5</td>\n",
       "      <td>1.4</td>\n",
       "      <td>0.2</td>\n",
       "      <td>Iris-setosa</td>\n",
       "      <td>NaN</td>\n",
       "    </tr>\n",
       "    <tr>\n",
       "      <th>1</th>\n",
       "      <td>4.9</td>\n",
       "      <td>3.0</td>\n",
       "      <td>1.4</td>\n",
       "      <td>0.2</td>\n",
       "      <td>Iris-setosa</td>\n",
       "      <td>NaN</td>\n",
       "    </tr>\n",
       "    <tr>\n",
       "      <th>2</th>\n",
       "      <td>4.7</td>\n",
       "      <td>3.2</td>\n",
       "      <td>1.3</td>\n",
       "      <td>0.2</td>\n",
       "      <td>Iris-setosa</td>\n",
       "      <td>NaN</td>\n",
       "    </tr>\n",
       "    <tr>\n",
       "      <th>3</th>\n",
       "      <td>4.6</td>\n",
       "      <td>3.1</td>\n",
       "      <td>1.5</td>\n",
       "      <td>0.2</td>\n",
       "      <td>Iris-setosa</td>\n",
       "      <td>NaN</td>\n",
       "    </tr>\n",
       "    <tr>\n",
       "      <th>4</th>\n",
       "      <td>5.0</td>\n",
       "      <td>3.6</td>\n",
       "      <td>1.4</td>\n",
       "      <td>0.2</td>\n",
       "      <td>Iris-setosa</td>\n",
       "      <td>NaN</td>\n",
       "    </tr>\n",
       "  </tbody>\n",
       "</table>\n",
       "</div>"
      ],
      "text/plain": [
       "   Sepal Length  Sepal Width  petallengthcm  petalwidthcm      species  \\\n",
       "0           5.1          3.5            1.4           0.2  Iris-setosa   \n",
       "1           4.9          3.0            1.4           0.2  Iris-setosa   \n",
       "2           4.7          3.2            1.3           0.2  Iris-setosa   \n",
       "3           4.6          3.1            1.5           0.2  Iris-setosa   \n",
       "4           5.0          3.6            1.4           0.2  Iris-setosa   \n",
       "\n",
       "   Petal Width  \n",
       "0          NaN  \n",
       "1          NaN  \n",
       "2          NaN  \n",
       "3          NaN  \n",
       "4          NaN  "
      ]
     },
     "execution_count": 10,
     "metadata": {},
     "output_type": "execute_result"
    }
   ],
   "outputs_reference": "s3:deepnote-cell-outputs-production/abd2daf2-a565-47d2-96aa-2eec96624c1e",
   "source": [
    "df = df.rename(columns={'SepalLengthCm' : 'Sepal Length', 'SepalWidthCm' : 'Sepal Width', 'PetalLengthCm' : 'Petal Length', 'PetalWidthCm' : 'Petal Width'})\n",
    "\n",
    "df.head(5)"
   ]
  },
  {
   "block_group": "3a8cdf30e33940f7af6fd030978173dc",
   "cell_type": "markdown",
   "metadata": {
    "cell_id": "ad6532809eff4c2388def156e76d057d",
    "deepnote_cell_type": "text-cell-p",
    "formattedRanges": [
     {
      "fromCodePoint": 0,
      "marks": {
       "bold": true,
       "italic": true
      },
      "toCodePoint": 76,
      "type": "marks"
     }
    ]
   },
   "source": [
    "Berikut adalah beberapa langkah yang dapat diambil untuk mengubah nama kolom"
   ]
  },
  {
   "block_group": "6fb0d1bac6f54970afda6d74640714ec",
   "cell_type": "markdown",
   "metadata": {
    "cell_id": "c365141d10bc4ba38cb4f2767db2e558",
    "deepnote_cell_type": "text-cell-p",
    "formattedRanges": [
     {
      "fromCodePoint": 0,
      "marks": {
       "bold": true
      },
      "toCodePoint": 15,
      "type": "marks"
     }
    ]
   },
   "source": [
    "Renaming Kolom:\r\n",
    "Anda dapat menggunakan metode atau fungsi yang disediakan oleh pustaka analisis data (seperti Pandas di Python) untuk mengganti nama kolom. Misalnya, dalam Pandas, Anda dapat menggunakan metode .rename() untuk mengganti nama kolom."
   ]
  },
  {
   "block_group": "d8a74d1e0ecf4cab894f32e0e7baeb60",
   "cell_type": "markdown",
   "metadata": {
    "cell_id": "e4e770b9ee244bb6b03ae55011202ed1",
    "deepnote_cell_type": "text-cell-p",
    "formattedRanges": [
     {
      "fromCodePoint": 2,
      "marks": {
       "bold": true
      },
      "toCodePoint": 41,
      "type": "marks"
     }
    ]
   },
   "source": [
    "\r\n",
    "Menggunakan Nama yang Lebih Deskriptif:\r\n",
    "Berikan nama yang lebih jelas dan deskriptif untuk setiap kolom. Misalnya, jika kita memiliki kolom dengan nama “X1”, kita dapat menggantinya dengan “Usia” atau “Pendapatan”."
   ]
  },
  {
   "block_group": "b1497d2b09fe4e3fa1058a17ebc61b56",
   "cell_type": "markdown",
   "metadata": {
    "cell_id": "91fd1337bb4c43709ef1541a7453cb87",
    "deepnote_cell_type": "text-cell-p",
    "formattedRanges": [
     {
      "fromCodePoint": 2,
      "marks": {
       "bold": true
      },
      "toCodePoint": 36,
      "type": "marks"
     }
    ]
   },
   "source": [
    "\r\n",
    "Hindari Spasi dan Karakter Khusus:\r\n",
    "Gunakan format yang konsisten dan hindari spasi atau karakter khusus dalam nama kolom. Jika perlu, gantilah spasi dengan garis bawah atau huruf kapital."
   ]
  },
  {
   "block_group": "9f00e6b15c454d52a90066eeb1d28250",
   "cell_type": "markdown",
   "metadata": {
    "cell_id": "4ee486c51b854b1c8b3293d9f8b68e66",
    "deepnote_cell_type": "text-cell-p",
    "formattedRanges": [
     {
      "fromCodePoint": 2,
      "marks": {
       "bold": true
      },
      "toCodePoint": 20,
      "type": "marks"
     }
    ]
   },
   "source": [
    "\r\n",
    "Singkat dan Jelas:\r\n",
    "Pastikan nama kolom singkat dan mudah dipahami. Hindari penggunaan kata-kata yang terlalu panjang atau ambigu."
   ]
  },
  {
   "block_group": "4610264e9b2748be8419be00ed542078",
   "cell_type": "markdown",
   "metadata": {
    "cell_id": "f7bdf3f3f3e845d7ab5f726e4ff8d2c5",
    "deepnote_cell_type": "text-cell-h3",
    "formattedRanges": []
   },
   "source": [
    "### C.Menghapus baris duplikat"
   ]
  },
  {
   "block_group": "240a6844b03642df9535def711693a9e",
   "cell_type": "code",
   "execution_count": 11,
   "metadata": {
    "cell_id": "62f26724136440cbb4c0a1f68d164cb9",
    "deepnote_cell_type": "code",
    "deepnote_to_be_reexecuted": false,
    "execution_millis": 289,
    "execution_start": 1710390205774,
    "source_hash": "1386cb8b"
   },
   "outputs": [
    {
     "data": {
      "text/plain": [
       "(150, 6)"
      ]
     },
     "execution_count": 11,
     "metadata": {},
     "output_type": "execute_result"
    }
   ],
   "outputs_reference": "dbtable:cell_outputs/20865869-b8fb-49d4-af50-7e753ff93913",
   "source": [
    "# cek jumlah baris dan kolom\n",
    "df.shape"
   ]
  },
  {
   "block_group": "cf14293be3e5498abfa5a7b6f8c9815a",
   "cell_type": "code",
   "execution_count": 12,
   "metadata": {
    "cell_id": "ac54b68b549d4eb7962e6f19f5b7ff5e",
    "deepnote_cell_type": "code",
    "deepnote_to_be_reexecuted": false,
    "execution_millis": 288,
    "execution_start": 1710390205775,
    "source_hash": "de09fef7"
   },
   "outputs": [
    {
     "name": "stdout",
     "output_type": "stream",
     "text": [
      "number of duplicate rows :  (3, 6)\n"
     ]
    }
   ],
   "outputs_reference": "dbtable:cell_outputs/c9d67b78-153c-46d3-b98c-5bce12f8be70",
   "source": [
    "# cek jumlah baris dan kolom yang memiliki data duplikat\n",
    "duplicate_rows_df = df[df.duplicated()]\n",
    "\n",
    "print('number of duplicate rows : ', duplicate_rows_df.shape)"
   ]
  },
  {
   "block_group": "c5381a43f5074fbc8e0431c6edb47c6a",
   "cell_type": "markdown",
   "metadata": {
    "cell_id": "a0ae01a991b64470907ce6c9ce1df9bd",
    "deepnote_cell_type": "text-cell-p",
    "formattedRanges": []
   },
   "source": [
    "Dari kode program diatas, dapat diketahui bahwa terdapat tiga baris yang memilki data yang sama"
   ]
  },
  {
   "block_group": "37310fff9f344b0a88ce1034ca0d1212",
   "cell_type": "code",
   "execution_count": 13,
   "metadata": {
    "cell_id": "41eb6b20ea24434aa85da55bc32d12e3",
    "deepnote_cell_type": "code",
    "deepnote_to_be_reexecuted": false,
    "execution_millis": 280,
    "execution_start": 1710390205784,
    "source_hash": "1f894e38"
   },
   "outputs": [
    {
     "name": "stdout",
     "output_type": "stream",
     "text": [
      "number of rows after drop duplicated rows (147, 6)\n"
     ]
    }
   ],
   "outputs_reference": "dbtable:cell_outputs/bcb23a82-47d4-41a5-92ef-7110dea6873f",
   "source": [
    "# menghapus duplikasi data\n",
    "df = df.drop_duplicates()\n",
    "\n",
    "print('number of rows after drop duplicated rows', df.shape)"
   ]
  },
  {
   "block_group": "dff45c02d9a84c44ae27ea1ba3014d44",
   "cell_type": "markdown",
   "metadata": {
    "cell_id": "6996d4f068904b54b35a63a02783a83f",
    "deepnote_cell_type": "text-cell-p",
    "formattedRanges": []
   },
   "source": [
    "Berdasarkan output kode proram diatas, jumlah baris yang awalnya 150 baris menjadi 147 baris. hal ini membuktikan bahwa kita sudah berhasil menghapus baris yang memiliki data yang sama."
   ]
  },
  {
   "block_group": "4aa669503e724d09a1b71d1c2e11478e",
   "cell_type": "markdown",
   "metadata": {
    "cell_id": "4308aaea23224ac8a6d0aa03dab1fd95",
    "deepnote_cell_type": "text-cell-h2",
    "formattedRanges": []
   },
   "source": [
    "## Penanganan missing value"
   ]
  },
  {
   "block_group": "f8fd5ea530ff4f8c8a7c83fd3a989f45",
   "cell_type": "markdown",
   "metadata": {
    "cell_id": "601f449319744747af064a0eb5d1190e",
    "deepnote_cell_type": "text-cell-p",
    "formattedRanges": []
   },
   "source": [
    "Pentingnya menangani data yang hilang atau kosong tidak boleh diabaikan. Ketidakhadiran data ini dapat mengganggu proses pemodelan dataset, menghasilkan hasil yang tidak akurat atau tidak dapat diandalkan. Sumber data yang tidak berfungsi dengan baik, entah itu dari mesin atau manusia, dapat menjadi penyebab kehilangan data. Kesalahan dalam proses pengolahan atau kesalahan manusia dalam pengumpulan data juga dapat menjadi penyebabnya."
   ]
  },
  {
   "block_group": "4ff167593b6e4367906c9542a896244c",
   "cell_type": "markdown",
   "metadata": {
    "cell_id": "62ec9349022d4b8589e3007e1acb698d",
    "deepnote_cell_type": "text-cell-p",
    "formattedRanges": []
   },
   "source": [
    "Ada beberapa pendekatan yang dapat dilakukan dalam penanganan nilai yang hilang. Salah satunya adalah dengan menghapus data yang hilang, tetapi juga dapat diisi kembali menggunakan berbagai metode. Dua metode umum yang akan dicoba dalam kasus ini adalah pengisian dengan nilai rata-rata (mean) dan menggunakan metode K Nearest Neighbor (KNN)."
   ]
  },
  {
   "block_group": "1f4fdabf3afa40d682036103a5dbfb0e",
   "cell_type": "code",
   "execution_count": 14,
   "metadata": {
    "cell_id": "c7a33f260dc449c4851598eefd730103",
    "deepnote_cell_type": "code",
    "deepnote_to_be_reexecuted": false,
    "execution_millis": 603,
    "execution_start": 1710390205792,
    "source_hash": "a1200156"
   },
   "outputs": [
    {
     "name": "stdout",
     "output_type": "stream",
     "text": [
      "Index(['Sepal Length', 'Sepal Width', 'petallengthcm', 'petalwidthcm',\n",
      "       'species', 'Petal Width'],\n",
      "      dtype='object')\n"
     ]
    }
   ],
   "outputs_reference": "dbtable:cell_outputs/0ada90a9-6f20-48ff-b363-876a51cfd025",
   "source": [
    "print(df.columns)"
   ]
  },
  {
   "block_group": "03f40cd15eaa4608a83ea774a7df1f43",
   "cell_type": "code",
   "execution_count": 15,
   "metadata": {
    "cell_id": "79511b0a338f4fad98985586a1b9cfc0",
    "deepnote_cell_type": "code",
    "deepnote_to_be_reexecuted": false,
    "execution_millis": 592,
    "execution_start": 1710390205804,
    "source_hash": "ccec2f59"
   },
   "outputs": [
    {
     "data": {
      "application/vnd.deepnote.dataframe.v3+json": {
       "column_count": 6,
       "columns": [
        {
         "dtype": "float64",
         "name": "Sepal Length",
         "stats": {
          "histogram": [
           {
            "bin_end": 0.1,
            "bin_start": 0,
            "count": 0
           },
           {
            "bin_end": 0.2,
            "bin_start": 0.1,
            "count": 0
           },
           {
            "bin_end": 0.30000000000000004,
            "bin_start": 0.2,
            "count": 0
           },
           {
            "bin_end": 0.4,
            "bin_start": 0.30000000000000004,
            "count": 0
           },
           {
            "bin_end": 0.5,
            "bin_start": 0.4,
            "count": 0
           },
           {
            "bin_end": 0.6000000000000001,
            "bin_start": 0.5,
            "count": 0
           },
           {
            "bin_end": 0.7000000000000001,
            "bin_start": 0.6000000000000001,
            "count": 0
           },
           {
            "bin_end": 0.8,
            "bin_start": 0.7000000000000001,
            "count": 0
           },
           {
            "bin_end": 0.9,
            "bin_start": 0.8,
            "count": 0
           },
           {
            "bin_end": 1,
            "bin_start": 0.9,
            "count": 0
           }
          ],
          "max": null,
          "min": null,
          "nan_count": 5,
          "unique_count": 0
         }
        },
        {
         "dtype": "float64",
         "name": "Sepal Width",
         "stats": {
          "histogram": [
           {
            "bin_end": 2.86,
            "bin_start": 2.8,
            "count": 1
           },
           {
            "bin_end": 2.92,
            "bin_start": 2.86,
            "count": 1
           },
           {
            "bin_end": 2.98,
            "bin_start": 2.92,
            "count": 0
           },
           {
            "bin_end": 3.04,
            "bin_start": 2.98,
            "count": 1
           },
           {
            "bin_end": 3.0999999999999996,
            "bin_start": 3.04,
            "count": 0
           },
           {
            "bin_end": 3.16,
            "bin_start": 3.0999999999999996,
            "count": 0
           },
           {
            "bin_end": 3.2199999999999998,
            "bin_start": 3.16,
            "count": 0
           },
           {
            "bin_end": 3.28,
            "bin_start": 3.2199999999999998,
            "count": 0
           },
           {
            "bin_end": 3.34,
            "bin_start": 3.28,
            "count": 1
           },
           {
            "bin_end": 3.4,
            "bin_start": 3.34,
            "count": 1
           }
          ],
          "max": "3.4",
          "min": "2.8",
          "nan_count": 0,
          "unique_count": 5
         }
        },
        {
         "dtype": "float64",
         "name": "petallengthcm",
         "stats": {
          "histogram": [
           {
            "bin_end": 1.77,
            "bin_start": 1.4,
            "count": 1
           },
           {
            "bin_end": 2.1399999999999997,
            "bin_start": 1.77,
            "count": 1
           },
           {
            "bin_end": 2.51,
            "bin_start": 2.1399999999999997,
            "count": 0
           },
           {
            "bin_end": 2.88,
            "bin_start": 2.51,
            "count": 0
           },
           {
            "bin_end": 3.25,
            "bin_start": 2.88,
            "count": 0
           },
           {
            "bin_end": 3.6199999999999997,
            "bin_start": 3.25,
            "count": 0
           },
           {
            "bin_end": 3.9899999999999998,
            "bin_start": 3.6199999999999997,
            "count": 0
           },
           {
            "bin_end": 4.359999999999999,
            "bin_start": 3.9899999999999998,
            "count": 2
           },
           {
            "bin_end": 4.73,
            "bin_start": 4.359999999999999,
            "count": 0
           },
           {
            "bin_end": 5.1,
            "bin_start": 4.73,
            "count": 1
           }
          ],
          "max": "5.1",
          "min": "1.4",
          "nan_count": 0,
          "unique_count": 5
         }
        },
        {
         "dtype": "float64",
         "name": "petalwidthcm",
         "stats": {
          "histogram": [
           {
            "bin_end": 0.36,
            "bin_start": 0.2,
            "count": 2
           },
           {
            "bin_end": 0.52,
            "bin_start": 0.36,
            "count": 0
           },
           {
            "bin_end": 0.6799999999999999,
            "bin_start": 0.52,
            "count": 0
           },
           {
            "bin_end": 0.8400000000000001,
            "bin_start": 0.6799999999999999,
            "count": 0
           },
           {
            "bin_end": 1,
            "bin_start": 0.8400000000000001,
            "count": 0
           },
           {
            "bin_end": 1.16,
            "bin_start": 1,
            "count": 0
           },
           {
            "bin_end": 1.32,
            "bin_start": 1.16,
            "count": 2
           },
           {
            "bin_end": 1.48,
            "bin_start": 1.32,
            "count": 0
           },
           {
            "bin_end": 1.64,
            "bin_start": 1.48,
            "count": 0
           },
           {
            "bin_end": 1.8,
            "bin_start": 1.64,
            "count": 1
           }
          ],
          "max": "1.8",
          "min": "0.2",
          "nan_count": 0,
          "unique_count": 3
         }
        },
        {
         "dtype": "object",
         "name": "species",
         "stats": {
          "categories": [
           {
            "count": 2,
            "name": "Iris-setosa"
           },
           {
            "count": 2,
            "name": "Iris-versicolor"
           },
           {
            "count": 1,
            "name": "Iris-virginica"
           }
          ],
          "nan_count": 0,
          "unique_count": 3
         }
        },
        {
         "dtype": "float64",
         "name": "Petal Width",
         "stats": {
          "histogram": [
           {
            "bin_end": 0.1,
            "bin_start": 0,
            "count": 0
           },
           {
            "bin_end": 0.2,
            "bin_start": 0.1,
            "count": 0
           },
           {
            "bin_end": 0.30000000000000004,
            "bin_start": 0.2,
            "count": 0
           },
           {
            "bin_end": 0.4,
            "bin_start": 0.30000000000000004,
            "count": 0
           },
           {
            "bin_end": 0.5,
            "bin_start": 0.4,
            "count": 0
           },
           {
            "bin_end": 0.6000000000000001,
            "bin_start": 0.5,
            "count": 0
           },
           {
            "bin_end": 0.7000000000000001,
            "bin_start": 0.6000000000000001,
            "count": 0
           },
           {
            "bin_end": 0.8,
            "bin_start": 0.7000000000000001,
            "count": 0
           },
           {
            "bin_end": 0.9,
            "bin_start": 0.8,
            "count": 0
           },
           {
            "bin_end": 1,
            "bin_start": 0.9,
            "count": 0
           }
          ],
          "max": null,
          "min": null,
          "nan_count": 5,
          "unique_count": 0
         }
        },
        {
         "dtype": "int64",
         "name": "_deepnote_index_column"
        }
       ],
       "row_count": 5,
       "rows": [
        {
         "Petal Width": "nan",
         "Sepal Length": "nan",
         "Sepal Width": 3.4,
         "_deepnote_index_column": 24,
         "petallengthcm": 1.9,
         "petalwidthcm": 0.2,
         "species": "Iris-setosa"
        },
        {
         "Petal Width": "nan",
         "Sepal Length": "nan",
         "Sepal Width": 3.3,
         "_deepnote_index_column": 49,
         "petallengthcm": 1.4,
         "petalwidthcm": 0.2,
         "species": "Iris-setosa"
        },
        {
         "Petal Width": "nan",
         "Sepal Length": "nan",
         "Sepal Width": 2.9,
         "_deepnote_index_column": 74,
         "petallengthcm": 4.3,
         "petalwidthcm": 1.3,
         "species": "Iris-versicolor"
        },
        {
         "Petal Width": "nan",
         "Sepal Length": "nan",
         "Sepal Width": 2.8,
         "_deepnote_index_column": 99,
         "petallengthcm": 4.1,
         "petalwidthcm": 1.3,
         "species": "Iris-versicolor"
        },
        {
         "Petal Width": "nan",
         "Sepal Length": "nan",
         "Sepal Width": 3,
         "_deepnote_index_column": 149,
         "petallengthcm": 5.1,
         "petalwidthcm": 1.8,
         "species": "Iris-virginica"
        }
       ]
      },
      "text/html": [
       "<div>\n",
       "<style scoped>\n",
       "    .dataframe tbody tr th:only-of-type {\n",
       "        vertical-align: middle;\n",
       "    }\n",
       "\n",
       "    .dataframe tbody tr th {\n",
       "        vertical-align: top;\n",
       "    }\n",
       "\n",
       "    .dataframe thead th {\n",
       "        text-align: right;\n",
       "    }\n",
       "</style>\n",
       "<table border=\"1\" class=\"dataframe\">\n",
       "  <thead>\n",
       "    <tr style=\"text-align: right;\">\n",
       "      <th></th>\n",
       "      <th>Sepal Length</th>\n",
       "      <th>Sepal Width</th>\n",
       "      <th>petallengthcm</th>\n",
       "      <th>petalwidthcm</th>\n",
       "      <th>species</th>\n",
       "      <th>Petal Width</th>\n",
       "    </tr>\n",
       "  </thead>\n",
       "  <tbody>\n",
       "    <tr>\n",
       "      <th>24</th>\n",
       "      <td>NaN</td>\n",
       "      <td>3.4</td>\n",
       "      <td>1.9</td>\n",
       "      <td>0.2</td>\n",
       "      <td>Iris-setosa</td>\n",
       "      <td>NaN</td>\n",
       "    </tr>\n",
       "    <tr>\n",
       "      <th>49</th>\n",
       "      <td>NaN</td>\n",
       "      <td>3.3</td>\n",
       "      <td>1.4</td>\n",
       "      <td>0.2</td>\n",
       "      <td>Iris-setosa</td>\n",
       "      <td>NaN</td>\n",
       "    </tr>\n",
       "    <tr>\n",
       "      <th>74</th>\n",
       "      <td>NaN</td>\n",
       "      <td>2.9</td>\n",
       "      <td>4.3</td>\n",
       "      <td>1.3</td>\n",
       "      <td>Iris-versicolor</td>\n",
       "      <td>NaN</td>\n",
       "    </tr>\n",
       "    <tr>\n",
       "      <th>99</th>\n",
       "      <td>NaN</td>\n",
       "      <td>2.8</td>\n",
       "      <td>4.1</td>\n",
       "      <td>1.3</td>\n",
       "      <td>Iris-versicolor</td>\n",
       "      <td>NaN</td>\n",
       "    </tr>\n",
       "    <tr>\n",
       "      <th>149</th>\n",
       "      <td>NaN</td>\n",
       "      <td>3.0</td>\n",
       "      <td>5.1</td>\n",
       "      <td>1.8</td>\n",
       "      <td>Iris-virginica</td>\n",
       "      <td>NaN</td>\n",
       "    </tr>\n",
       "  </tbody>\n",
       "</table>\n",
       "</div>"
      ],
      "text/plain": [
       "     Sepal Length  Sepal Width  petallengthcm  petalwidthcm          species  \\\n",
       "24            NaN          3.4            1.9           0.2      Iris-setosa   \n",
       "49            NaN          3.3            1.4           0.2      Iris-setosa   \n",
       "74            NaN          2.9            4.3           1.3  Iris-versicolor   \n",
       "99            NaN          2.8            4.1           1.3  Iris-versicolor   \n",
       "149           NaN          3.0            5.1           1.8   Iris-virginica   \n",
       "\n",
       "     Petal Width  \n",
       "24           NaN  \n",
       "49           NaN  \n",
       "74           NaN  \n",
       "99           NaN  \n",
       "149          NaN  "
      ]
     },
     "execution_count": 15,
     "metadata": {},
     "output_type": "execute_result"
    }
   ],
   "outputs_reference": "s3:deepnote-cell-outputs-production/aa320a7b-6661-4761-8e86-b390f84d9dc5",
   "source": [
    "# menampilkan baris dengan missing value\n",
    "df.loc[df['Sepal Length'].isnull() | df['Sepal Width'].isnull() | df['petallengthcm'].isnull() | df['petalwidthcm'].isnull()]"
   ]
  },
  {
   "block_group": "bc77a966df9a45a3a0ef785cdd8f7759",
   "cell_type": "code",
   "execution_count": 16,
   "metadata": {
    "cell_id": "b37b9ca2866d42efbc4b1267e577442b",
    "deepnote_cell_type": "code",
    "deepnote_to_be_reexecuted": false,
    "execution_millis": 534,
    "execution_start": 1710390205862,
    "source_hash": "b3822a02"
   },
   "outputs": [],
   "outputs_reference": null,
   "source": [
    "# menghapus baris baris dengan missing value pada kolom 'Petal Width'\n",
    "df.dropna(subset=['petalwidthcm'], inplace=True)"
   ]
  },
  {
   "block_group": "cb9cf91f19fb46c8b094764b7a9e503b",
   "cell_type": "code",
   "execution_count": 17,
   "metadata": {
    "cell_id": "944eabbb7927445183bf8bcbd2c49bee",
    "deepnote_cell_type": "code",
    "deepnote_table_loading": false,
    "deepnote_table_state": {
     "filters": [],
     "pageIndex": 2,
     "pageSize": 10,
     "sortBy": []
    },
    "deepnote_to_be_reexecuted": false,
    "execution_millis": 527,
    "execution_start": 1710390205869,
    "source_hash": "f804c160"
   },
   "outputs": [
    {
     "data": {
      "application/vnd.deepnote.dataframe.v3+json": {
       "column_count": 6,
       "columns": [
        {
         "dtype": "float64",
         "name": "Sepal Length",
         "stats": {
          "histogram": [
           {
            "bin_end": 4.66,
            "bin_start": 4.3,
            "count": 9
           },
           {
            "bin_end": 5.02,
            "bin_start": 4.66,
            "count": 19
           },
           {
            "bin_end": 5.38,
            "bin_start": 5.02,
            "count": 14
           },
           {
            "bin_end": 5.74,
            "bin_start": 5.38,
            "count": 26
           },
           {
            "bin_end": 6.1,
            "bin_start": 5.74,
            "count": 14
           },
           {
            "bin_end": 6.46,
            "bin_start": 6.1,
            "count": 25
           },
           {
            "bin_end": 6.82,
            "bin_start": 6.46,
            "count": 18
           },
           {
            "bin_end": 7.18,
            "bin_start": 6.82,
            "count": 6
           },
           {
            "bin_end": 7.54,
            "bin_start": 7.18,
            "count": 5
           },
           {
            "bin_end": 7.9,
            "bin_start": 7.54,
            "count": 6
           }
          ],
          "max": "7.9",
          "min": "4.3",
          "nan_count": 5,
          "unique_count": 35
         }
        },
        {
         "dtype": "float64",
         "name": "Sepal Width",
         "stats": {
          "histogram": [
           {
            "bin_end": 2.24,
            "bin_start": 2,
            "count": 4
           },
           {
            "bin_end": 2.48,
            "bin_start": 2.24,
            "count": 7
           },
           {
            "bin_end": 2.72,
            "bin_start": 2.48,
            "count": 21
           },
           {
            "bin_end": 2.96,
            "bin_start": 2.72,
            "count": 24
           },
           {
            "bin_end": 3.2,
            "bin_start": 2.96,
            "count": 36
           },
           {
            "bin_end": 3.4400000000000004,
            "bin_start": 3.2,
            "count": 31
           },
           {
            "bin_end": 3.6800000000000006,
            "bin_start": 3.4400000000000004,
            "count": 9
           },
           {
            "bin_end": 3.9200000000000004,
            "bin_start": 3.6800000000000006,
            "count": 11
           },
           {
            "bin_end": 4.16,
            "bin_start": 3.9200000000000004,
            "count": 2
           },
           {
            "bin_end": 4.4,
            "bin_start": 4.16,
            "count": 2
           }
          ],
          "max": "4.4",
          "min": "2.0",
          "nan_count": 0,
          "unique_count": 23
         }
        },
        {
         "dtype": "float64",
         "name": "petallengthcm",
         "stats": {
          "histogram": [
           {
            "bin_end": 1.59,
            "bin_start": 1,
            "count": 35
           },
           {
            "bin_end": 2.18,
            "bin_start": 1.59,
            "count": 13
           },
           {
            "bin_end": 2.7700000000000005,
            "bin_start": 2.18,
            "count": 0
           },
           {
            "bin_end": 3.3600000000000003,
            "bin_start": 2.7700000000000005,
            "count": 3
           },
           {
            "bin_end": 3.95,
            "bin_start": 3.3600000000000003,
            "count": 8
           },
           {
            "bin_end": 4.540000000000001,
            "bin_start": 3.95,
            "count": 26
           },
           {
            "bin_end": 5.130000000000001,
            "bin_start": 4.540000000000001,
            "count": 28
           },
           {
            "bin_end": 5.720000000000001,
            "bin_start": 5.130000000000001,
            "count": 18
           },
           {
            "bin_end": 6.3100000000000005,
            "bin_start": 5.720000000000001,
            "count": 11
           },
           {
            "bin_end": 6.9,
            "bin_start": 6.3100000000000005,
            "count": 5
           }
          ],
          "max": "6.9",
          "min": "1.0",
          "nan_count": 0,
          "unique_count": 43
         }
        },
        {
         "dtype": "float64",
         "name": "petalwidthcm",
         "stats": {
          "histogram": [
           {
            "bin_end": 0.33999999999999997,
            "bin_start": 0.1,
            "count": 39
           },
           {
            "bin_end": 0.58,
            "bin_start": 0.33999999999999997,
            "count": 8
           },
           {
            "bin_end": 0.82,
            "bin_start": 0.58,
            "count": 1
           },
           {
            "bin_end": 1.06,
            "bin_start": 0.82,
            "count": 7
           },
           {
            "bin_end": 1.3,
            "bin_start": 1.06,
            "count": 8
           },
           {
            "bin_end": 1.54,
            "bin_start": 1.3,
            "count": 33
           },
           {
            "bin_end": 1.78,
            "bin_start": 1.54,
            "count": 6
           },
           {
            "bin_end": 2.02,
            "bin_start": 1.78,
            "count": 22
           },
           {
            "bin_end": 2.2600000000000002,
            "bin_start": 2.02,
            "count": 9
           },
           {
            "bin_end": 2.5,
            "bin_start": 2.2600000000000002,
            "count": 14
           }
          ],
          "max": "2.5",
          "min": "0.1",
          "nan_count": 0,
          "unique_count": 22
         }
        },
        {
         "dtype": "object",
         "name": "species",
         "stats": {
          "categories": [
           {
            "count": 50,
            "name": "Iris-versicolor"
           },
           {
            "count": 49,
            "name": "Iris-virginica"
           },
           {
            "count": 48,
            "name": "Iris-setosa"
           }
          ],
          "nan_count": 0,
          "unique_count": 3
         }
        },
        {
         "dtype": "float64",
         "name": "Petal Width",
         "stats": {
          "histogram": [
           {
            "bin_end": 0.1,
            "bin_start": 0,
            "count": 0
           },
           {
            "bin_end": 0.2,
            "bin_start": 0.1,
            "count": 0
           },
           {
            "bin_end": 0.30000000000000004,
            "bin_start": 0.2,
            "count": 0
           },
           {
            "bin_end": 0.4,
            "bin_start": 0.30000000000000004,
            "count": 0
           },
           {
            "bin_end": 0.5,
            "bin_start": 0.4,
            "count": 0
           },
           {
            "bin_end": 0.6000000000000001,
            "bin_start": 0.5,
            "count": 0
           },
           {
            "bin_end": 0.7000000000000001,
            "bin_start": 0.6000000000000001,
            "count": 0
           },
           {
            "bin_end": 0.8,
            "bin_start": 0.7000000000000001,
            "count": 0
           },
           {
            "bin_end": 0.9,
            "bin_start": 0.8,
            "count": 0
           },
           {
            "bin_end": 1,
            "bin_start": 0.9,
            "count": 0
           }
          ],
          "max": null,
          "min": null,
          "nan_count": 147,
          "unique_count": 0
         }
        },
        {
         "dtype": "int64",
         "name": "_deepnote_index_column"
        }
       ],
       "row_count": 147,
       "rows": [
        {
         "Petal Width": "nan",
         "Sepal Length": 5.4,
         "Sepal Width": 3.4,
         "_deepnote_index_column": 20,
         "petallengthcm": 1.7,
         "petalwidthcm": 0.2,
         "species": "Iris-setosa"
        },
        {
         "Petal Width": "nan",
         "Sepal Length": 5.1,
         "Sepal Width": 3.7,
         "_deepnote_index_column": 21,
         "petallengthcm": 1.5,
         "petalwidthcm": 0.4,
         "species": "Iris-setosa"
        },
        {
         "Petal Width": "nan",
         "Sepal Length": 4.6,
         "Sepal Width": 3.6,
         "_deepnote_index_column": 22,
         "petallengthcm": 1,
         "petalwidthcm": 0.2,
         "species": "Iris-setosa"
        },
        {
         "Petal Width": "nan",
         "Sepal Length": 5.1,
         "Sepal Width": 3.3,
         "_deepnote_index_column": 23,
         "petallengthcm": 1.7,
         "petalwidthcm": 0.5,
         "species": "Iris-setosa"
        },
        {
         "Petal Width": "nan",
         "Sepal Length": "nan",
         "Sepal Width": 3.4,
         "_deepnote_index_column": 24,
         "petallengthcm": 1.9,
         "petalwidthcm": 0.2,
         "species": "Iris-setosa"
        },
        {
         "Petal Width": "nan",
         "Sepal Length": 5,
         "Sepal Width": 3,
         "_deepnote_index_column": 25,
         "petallengthcm": 1.6,
         "petalwidthcm": 0.2,
         "species": "Iris-setosa"
        },
        {
         "Petal Width": "nan",
         "Sepal Length": 5,
         "Sepal Width": 3.4,
         "_deepnote_index_column": 26,
         "petallengthcm": 1.6,
         "petalwidthcm": 0.4,
         "species": "Iris-setosa"
        },
        {
         "Petal Width": "nan",
         "Sepal Length": 5.2,
         "Sepal Width": 3.5,
         "_deepnote_index_column": 27,
         "petallengthcm": 1.5,
         "petalwidthcm": 0.2,
         "species": "Iris-setosa"
        },
        {
         "Petal Width": "nan",
         "Sepal Length": 5.2,
         "Sepal Width": 3.4,
         "_deepnote_index_column": 28,
         "petallengthcm": 1.4,
         "petalwidthcm": 0.2,
         "species": "Iris-setosa"
        },
        {
         "Petal Width": "nan",
         "Sepal Length": 4.7,
         "Sepal Width": 3.2,
         "_deepnote_index_column": 29,
         "petallengthcm": 1.6,
         "petalwidthcm": 0.2,
         "species": "Iris-setosa"
        }
       ]
      },
      "text/html": [
       "<div>\n",
       "<style scoped>\n",
       "    .dataframe tbody tr th:only-of-type {\n",
       "        vertical-align: middle;\n",
       "    }\n",
       "\n",
       "    .dataframe tbody tr th {\n",
       "        vertical-align: top;\n",
       "    }\n",
       "\n",
       "    .dataframe thead th {\n",
       "        text-align: right;\n",
       "    }\n",
       "</style>\n",
       "<table border=\"1\" class=\"dataframe\">\n",
       "  <thead>\n",
       "    <tr style=\"text-align: right;\">\n",
       "      <th></th>\n",
       "      <th>Sepal Length</th>\n",
       "      <th>Sepal Width</th>\n",
       "      <th>petallengthcm</th>\n",
       "      <th>petalwidthcm</th>\n",
       "      <th>species</th>\n",
       "      <th>Petal Width</th>\n",
       "    </tr>\n",
       "  </thead>\n",
       "  <tbody>\n",
       "    <tr>\n",
       "      <th>0</th>\n",
       "      <td>5.1</td>\n",
       "      <td>3.5</td>\n",
       "      <td>1.4</td>\n",
       "      <td>0.2</td>\n",
       "      <td>Iris-setosa</td>\n",
       "      <td>NaN</td>\n",
       "    </tr>\n",
       "    <tr>\n",
       "      <th>1</th>\n",
       "      <td>4.9</td>\n",
       "      <td>3.0</td>\n",
       "      <td>1.4</td>\n",
       "      <td>0.2</td>\n",
       "      <td>Iris-setosa</td>\n",
       "      <td>NaN</td>\n",
       "    </tr>\n",
       "    <tr>\n",
       "      <th>2</th>\n",
       "      <td>4.7</td>\n",
       "      <td>3.2</td>\n",
       "      <td>1.3</td>\n",
       "      <td>0.2</td>\n",
       "      <td>Iris-setosa</td>\n",
       "      <td>NaN</td>\n",
       "    </tr>\n",
       "    <tr>\n",
       "      <th>3</th>\n",
       "      <td>4.6</td>\n",
       "      <td>3.1</td>\n",
       "      <td>1.5</td>\n",
       "      <td>0.2</td>\n",
       "      <td>Iris-setosa</td>\n",
       "      <td>NaN</td>\n",
       "    </tr>\n",
       "    <tr>\n",
       "      <th>4</th>\n",
       "      <td>5.0</td>\n",
       "      <td>3.6</td>\n",
       "      <td>1.4</td>\n",
       "      <td>0.2</td>\n",
       "      <td>Iris-setosa</td>\n",
       "      <td>NaN</td>\n",
       "    </tr>\n",
       "    <tr>\n",
       "      <th>...</th>\n",
       "      <td>...</td>\n",
       "      <td>...</td>\n",
       "      <td>...</td>\n",
       "      <td>...</td>\n",
       "      <td>...</td>\n",
       "      <td>...</td>\n",
       "    </tr>\n",
       "    <tr>\n",
       "      <th>145</th>\n",
       "      <td>6.7</td>\n",
       "      <td>3.0</td>\n",
       "      <td>5.2</td>\n",
       "      <td>2.3</td>\n",
       "      <td>Iris-virginica</td>\n",
       "      <td>NaN</td>\n",
       "    </tr>\n",
       "    <tr>\n",
       "      <th>146</th>\n",
       "      <td>6.3</td>\n",
       "      <td>2.5</td>\n",
       "      <td>5.0</td>\n",
       "      <td>1.9</td>\n",
       "      <td>Iris-virginica</td>\n",
       "      <td>NaN</td>\n",
       "    </tr>\n",
       "    <tr>\n",
       "      <th>147</th>\n",
       "      <td>6.5</td>\n",
       "      <td>3.0</td>\n",
       "      <td>5.2</td>\n",
       "      <td>2.0</td>\n",
       "      <td>Iris-virginica</td>\n",
       "      <td>NaN</td>\n",
       "    </tr>\n",
       "    <tr>\n",
       "      <th>148</th>\n",
       "      <td>6.2</td>\n",
       "      <td>3.4</td>\n",
       "      <td>5.4</td>\n",
       "      <td>2.3</td>\n",
       "      <td>Iris-virginica</td>\n",
       "      <td>NaN</td>\n",
       "    </tr>\n",
       "    <tr>\n",
       "      <th>149</th>\n",
       "      <td>NaN</td>\n",
       "      <td>3.0</td>\n",
       "      <td>5.1</td>\n",
       "      <td>1.8</td>\n",
       "      <td>Iris-virginica</td>\n",
       "      <td>NaN</td>\n",
       "    </tr>\n",
       "  </tbody>\n",
       "</table>\n",
       "<p>147 rows × 6 columns</p>\n",
       "</div>"
      ],
      "text/plain": [
       "     Sepal Length  Sepal Width  petallengthcm  petalwidthcm         species  \\\n",
       "0             5.1          3.5            1.4           0.2     Iris-setosa   \n",
       "1             4.9          3.0            1.4           0.2     Iris-setosa   \n",
       "2             4.7          3.2            1.3           0.2     Iris-setosa   \n",
       "3             4.6          3.1            1.5           0.2     Iris-setosa   \n",
       "4             5.0          3.6            1.4           0.2     Iris-setosa   \n",
       "..            ...          ...            ...           ...             ...   \n",
       "145           6.7          3.0            5.2           2.3  Iris-virginica   \n",
       "146           6.3          2.5            5.0           1.9  Iris-virginica   \n",
       "147           6.5          3.0            5.2           2.0  Iris-virginica   \n",
       "148           6.2          3.4            5.4           2.3  Iris-virginica   \n",
       "149           NaN          3.0            5.1           1.8  Iris-virginica   \n",
       "\n",
       "     Petal Width  \n",
       "0            NaN  \n",
       "1            NaN  \n",
       "2            NaN  \n",
       "3            NaN  \n",
       "4            NaN  \n",
       "..           ...  \n",
       "145          NaN  \n",
       "146          NaN  \n",
       "147          NaN  \n",
       "148          NaN  \n",
       "149          NaN  \n",
       "\n",
       "[147 rows x 6 columns]"
      ]
     },
     "execution_count": 17,
     "metadata": {},
     "output_type": "execute_result"
    }
   ],
   "outputs_reference": "s3:deepnote-cell-outputs-production/d60ecbef-ae2b-47f6-b799-f7bb580b351e",
   "source": [
    "df"
   ]
  },
  {
   "block_group": "3720161b9cdf4c279b60cccc4682509d",
   "cell_type": "markdown",
   "metadata": {
    "cell_id": "3a6cc9ed2b7349f194dc674edadad30e",
    "deepnote_cell_type": "text-cell-h2",
    "formattedRanges": []
   },
   "source": [
    "## Penanganan missing value dengan metode nilai rata-rata (Mean)"
   ]
  },
  {
   "block_group": "bfd6f5695124425c9d3405dc04812210",
   "cell_type": "markdown",
   "metadata": {
    "cell_id": "43779555b157452daf599d1cb9ac45ee",
    "deepnote_cell_type": "text-cell-p",
    "formattedRanges": []
   },
   "source": [
    "Pada tahap sebelumnya, kita berhasil menghapus baris yang mengandung nilai yang hilang. Pada langkah ini, kita akan mengisi nilai yang hilang dengan menggunakan metode rata-rata (Mean). Metode ini melibatkan penjumlahan semua nilai fitur dalam kolom dan kemudian melakukan pembagian dengan jumlah baris. Ini akan menghasilkan rata-rata nilai fitur. Berikut adalah rumusnya:"
   ]
  },
  {
   "block_group": "d2a58896c8054a5ca6c609b7ce669837",
   "cell_type": "markdown",
   "metadata": {
    "cell_id": "25343cc0cd364d38bd8fd42dea965c95",
    "deepnote_cell_type": "text-cell-p",
    "formattedRanges": []
   },
   "source": [
    "Dengan menggunakan rumus ini, kita dapat menemukan nilai rata-rata untuk setiap fitur dalam dataset. Selanjutnya, nilai rata-rata ini akan digunakan untuk mengisi nilai yang hilang dalam dataset."
   ]
  },
  {
   "block_group": "3e35b5331315445c80e941d8c8ff9939",
   "cell_type": "code",
   "execution_count": 18,
   "metadata": {
    "cell_id": "9e9b2a80c031445082ee2013a65160d8",
    "deepnote_cell_type": "code",
    "deepnote_to_be_reexecuted": false,
    "execution_millis": 500,
    "execution_start": 1710390205897,
    "source_hash": "699e250f"
   },
   "outputs": [
    {
     "name": "stdout",
     "output_type": "stream",
     "text": [
      "nilai mean adalah =  5.9\n"
     ]
    },
    {
     "data": {
      "application/vnd.deepnote.dataframe.v3+json": {
       "column_count": 6,
       "columns": [
        {
         "dtype": "float64",
         "name": "Sepal Length",
         "stats": {
          "histogram": [
           {
            "bin_end": 4.66,
            "bin_start": 4.3,
            "count": 9
           },
           {
            "bin_end": 5.02,
            "bin_start": 4.66,
            "count": 19
           },
           {
            "bin_end": 5.38,
            "bin_start": 5.02,
            "count": 14
           },
           {
            "bin_end": 5.74,
            "bin_start": 5.38,
            "count": 26
           },
           {
            "bin_end": 6.1,
            "bin_start": 5.74,
            "count": 19
           },
           {
            "bin_end": 6.46,
            "bin_start": 6.1,
            "count": 25
           },
           {
            "bin_end": 6.82,
            "bin_start": 6.46,
            "count": 18
           },
           {
            "bin_end": 7.18,
            "bin_start": 6.82,
            "count": 6
           },
           {
            "bin_end": 7.54,
            "bin_start": 7.18,
            "count": 5
           },
           {
            "bin_end": 7.9,
            "bin_start": 7.54,
            "count": 6
           }
          ],
          "max": "7.9",
          "min": "4.3",
          "nan_count": 0,
          "unique_count": 35
         }
        },
        {
         "dtype": "float64",
         "name": "Sepal Width",
         "stats": {
          "histogram": [
           {
            "bin_end": 2.24,
            "bin_start": 2,
            "count": 4
           },
           {
            "bin_end": 2.48,
            "bin_start": 2.24,
            "count": 7
           },
           {
            "bin_end": 2.72,
            "bin_start": 2.48,
            "count": 21
           },
           {
            "bin_end": 2.96,
            "bin_start": 2.72,
            "count": 24
           },
           {
            "bin_end": 3.2,
            "bin_start": 2.96,
            "count": 36
           },
           {
            "bin_end": 3.4400000000000004,
            "bin_start": 3.2,
            "count": 31
           },
           {
            "bin_end": 3.6800000000000006,
            "bin_start": 3.4400000000000004,
            "count": 9
           },
           {
            "bin_end": 3.9200000000000004,
            "bin_start": 3.6800000000000006,
            "count": 11
           },
           {
            "bin_end": 4.16,
            "bin_start": 3.9200000000000004,
            "count": 2
           },
           {
            "bin_end": 4.4,
            "bin_start": 4.16,
            "count": 2
           }
          ],
          "max": "4.4",
          "min": "2.0",
          "nan_count": 0,
          "unique_count": 23
         }
        },
        {
         "dtype": "float64",
         "name": "petallengthcm",
         "stats": {
          "histogram": [
           {
            "bin_end": 1.59,
            "bin_start": 1,
            "count": 35
           },
           {
            "bin_end": 2.18,
            "bin_start": 1.59,
            "count": 13
           },
           {
            "bin_end": 2.7700000000000005,
            "bin_start": 2.18,
            "count": 0
           },
           {
            "bin_end": 3.3600000000000003,
            "bin_start": 2.7700000000000005,
            "count": 3
           },
           {
            "bin_end": 3.95,
            "bin_start": 3.3600000000000003,
            "count": 8
           },
           {
            "bin_end": 4.540000000000001,
            "bin_start": 3.95,
            "count": 26
           },
           {
            "bin_end": 5.130000000000001,
            "bin_start": 4.540000000000001,
            "count": 28
           },
           {
            "bin_end": 5.720000000000001,
            "bin_start": 5.130000000000001,
            "count": 18
           },
           {
            "bin_end": 6.3100000000000005,
            "bin_start": 5.720000000000001,
            "count": 11
           },
           {
            "bin_end": 6.9,
            "bin_start": 6.3100000000000005,
            "count": 5
           }
          ],
          "max": "6.9",
          "min": "1.0",
          "nan_count": 0,
          "unique_count": 43
         }
        },
        {
         "dtype": "float64",
         "name": "petalwidthcm",
         "stats": {
          "histogram": [
           {
            "bin_end": 0.33999999999999997,
            "bin_start": 0.1,
            "count": 39
           },
           {
            "bin_end": 0.58,
            "bin_start": 0.33999999999999997,
            "count": 8
           },
           {
            "bin_end": 0.82,
            "bin_start": 0.58,
            "count": 1
           },
           {
            "bin_end": 1.06,
            "bin_start": 0.82,
            "count": 7
           },
           {
            "bin_end": 1.3,
            "bin_start": 1.06,
            "count": 8
           },
           {
            "bin_end": 1.54,
            "bin_start": 1.3,
            "count": 33
           },
           {
            "bin_end": 1.78,
            "bin_start": 1.54,
            "count": 6
           },
           {
            "bin_end": 2.02,
            "bin_start": 1.78,
            "count": 22
           },
           {
            "bin_end": 2.2600000000000002,
            "bin_start": 2.02,
            "count": 9
           },
           {
            "bin_end": 2.5,
            "bin_start": 2.2600000000000002,
            "count": 14
           }
          ],
          "max": "2.5",
          "min": "0.1",
          "nan_count": 0,
          "unique_count": 22
         }
        },
        {
         "dtype": "object",
         "name": "species",
         "stats": {
          "categories": [
           {
            "count": 50,
            "name": "Iris-versicolor"
           },
           {
            "count": 49,
            "name": "Iris-virginica"
           },
           {
            "count": 48,
            "name": "Iris-setosa"
           }
          ],
          "nan_count": 0,
          "unique_count": 3
         }
        },
        {
         "dtype": "float64",
         "name": "Petal Width",
         "stats": {
          "histogram": [
           {
            "bin_end": 0.1,
            "bin_start": 0,
            "count": 0
           },
           {
            "bin_end": 0.2,
            "bin_start": 0.1,
            "count": 0
           },
           {
            "bin_end": 0.30000000000000004,
            "bin_start": 0.2,
            "count": 0
           },
           {
            "bin_end": 0.4,
            "bin_start": 0.30000000000000004,
            "count": 0
           },
           {
            "bin_end": 0.5,
            "bin_start": 0.4,
            "count": 0
           },
           {
            "bin_end": 0.6000000000000001,
            "bin_start": 0.5,
            "count": 0
           },
           {
            "bin_end": 0.7000000000000001,
            "bin_start": 0.6000000000000001,
            "count": 0
           },
           {
            "bin_end": 0.8,
            "bin_start": 0.7000000000000001,
            "count": 0
           },
           {
            "bin_end": 0.9,
            "bin_start": 0.8,
            "count": 0
           },
           {
            "bin_end": 1,
            "bin_start": 0.9,
            "count": 0
           }
          ],
          "max": null,
          "min": null,
          "nan_count": 147,
          "unique_count": 0
         }
        },
        {
         "dtype": "int64",
         "name": "_deepnote_index_column"
        }
       ],
       "row_count": 147,
       "rows": [
        {
         "Petal Width": "nan",
         "Sepal Length": 5.1,
         "Sepal Width": 3.5,
         "_deepnote_index_column": 0,
         "petallengthcm": 1.4,
         "petalwidthcm": 0.2,
         "species": "Iris-setosa"
        },
        {
         "Petal Width": "nan",
         "Sepal Length": 4.9,
         "Sepal Width": 3,
         "_deepnote_index_column": 1,
         "petallengthcm": 1.4,
         "petalwidthcm": 0.2,
         "species": "Iris-setosa"
        },
        {
         "Petal Width": "nan",
         "Sepal Length": 4.7,
         "Sepal Width": 3.2,
         "_deepnote_index_column": 2,
         "petallengthcm": 1.3,
         "petalwidthcm": 0.2,
         "species": "Iris-setosa"
        },
        {
         "Petal Width": "nan",
         "Sepal Length": 4.6,
         "Sepal Width": 3.1,
         "_deepnote_index_column": 3,
         "petallengthcm": 1.5,
         "petalwidthcm": 0.2,
         "species": "Iris-setosa"
        },
        {
         "Petal Width": "nan",
         "Sepal Length": 5,
         "Sepal Width": 3.6,
         "_deepnote_index_column": 4,
         "petallengthcm": 1.4,
         "petalwidthcm": 0.2,
         "species": "Iris-setosa"
        },
        {
         "Petal Width": "nan",
         "Sepal Length": 5.4,
         "Sepal Width": 3.9,
         "_deepnote_index_column": 5,
         "petallengthcm": 1.7,
         "petalwidthcm": 0.4,
         "species": "Iris-setosa"
        },
        {
         "Petal Width": "nan",
         "Sepal Length": 4.6,
         "Sepal Width": 3.4,
         "_deepnote_index_column": 6,
         "petallengthcm": 1.4,
         "petalwidthcm": 0.3,
         "species": "Iris-setosa"
        },
        {
         "Petal Width": "nan",
         "Sepal Length": 5,
         "Sepal Width": 3.4,
         "_deepnote_index_column": 7,
         "petallengthcm": 1.5,
         "petalwidthcm": 0.2,
         "species": "Iris-setosa"
        },
        {
         "Petal Width": "nan",
         "Sepal Length": 4.4,
         "Sepal Width": 2.9,
         "_deepnote_index_column": 8,
         "petallengthcm": 1.4,
         "petalwidthcm": 0.2,
         "species": "Iris-setosa"
        },
        {
         "Petal Width": "nan",
         "Sepal Length": 4.9,
         "Sepal Width": 3.1,
         "_deepnote_index_column": 9,
         "petallengthcm": 1.5,
         "petalwidthcm": 0.1,
         "species": "Iris-setosa"
        }
       ]
      },
      "text/html": [
       "<div>\n",
       "<style scoped>\n",
       "    .dataframe tbody tr th:only-of-type {\n",
       "        vertical-align: middle;\n",
       "    }\n",
       "\n",
       "    .dataframe tbody tr th {\n",
       "        vertical-align: top;\n",
       "    }\n",
       "\n",
       "    .dataframe thead th {\n",
       "        text-align: right;\n",
       "    }\n",
       "</style>\n",
       "<table border=\"1\" class=\"dataframe\">\n",
       "  <thead>\n",
       "    <tr style=\"text-align: right;\">\n",
       "      <th></th>\n",
       "      <th>Sepal Length</th>\n",
       "      <th>Sepal Width</th>\n",
       "      <th>petallengthcm</th>\n",
       "      <th>petalwidthcm</th>\n",
       "      <th>species</th>\n",
       "      <th>Petal Width</th>\n",
       "    </tr>\n",
       "  </thead>\n",
       "  <tbody>\n",
       "    <tr>\n",
       "      <th>0</th>\n",
       "      <td>5.1</td>\n",
       "      <td>3.5</td>\n",
       "      <td>1.4</td>\n",
       "      <td>0.2</td>\n",
       "      <td>Iris-setosa</td>\n",
       "      <td>NaN</td>\n",
       "    </tr>\n",
       "    <tr>\n",
       "      <th>1</th>\n",
       "      <td>4.9</td>\n",
       "      <td>3.0</td>\n",
       "      <td>1.4</td>\n",
       "      <td>0.2</td>\n",
       "      <td>Iris-setosa</td>\n",
       "      <td>NaN</td>\n",
       "    </tr>\n",
       "    <tr>\n",
       "      <th>2</th>\n",
       "      <td>4.7</td>\n",
       "      <td>3.2</td>\n",
       "      <td>1.3</td>\n",
       "      <td>0.2</td>\n",
       "      <td>Iris-setosa</td>\n",
       "      <td>NaN</td>\n",
       "    </tr>\n",
       "    <tr>\n",
       "      <th>3</th>\n",
       "      <td>4.6</td>\n",
       "      <td>3.1</td>\n",
       "      <td>1.5</td>\n",
       "      <td>0.2</td>\n",
       "      <td>Iris-setosa</td>\n",
       "      <td>NaN</td>\n",
       "    </tr>\n",
       "    <tr>\n",
       "      <th>4</th>\n",
       "      <td>5.0</td>\n",
       "      <td>3.6</td>\n",
       "      <td>1.4</td>\n",
       "      <td>0.2</td>\n",
       "      <td>Iris-setosa</td>\n",
       "      <td>NaN</td>\n",
       "    </tr>\n",
       "    <tr>\n",
       "      <th>...</th>\n",
       "      <td>...</td>\n",
       "      <td>...</td>\n",
       "      <td>...</td>\n",
       "      <td>...</td>\n",
       "      <td>...</td>\n",
       "      <td>...</td>\n",
       "    </tr>\n",
       "    <tr>\n",
       "      <th>145</th>\n",
       "      <td>6.7</td>\n",
       "      <td>3.0</td>\n",
       "      <td>5.2</td>\n",
       "      <td>2.3</td>\n",
       "      <td>Iris-virginica</td>\n",
       "      <td>NaN</td>\n",
       "    </tr>\n",
       "    <tr>\n",
       "      <th>146</th>\n",
       "      <td>6.3</td>\n",
       "      <td>2.5</td>\n",
       "      <td>5.0</td>\n",
       "      <td>1.9</td>\n",
       "      <td>Iris-virginica</td>\n",
       "      <td>NaN</td>\n",
       "    </tr>\n",
       "    <tr>\n",
       "      <th>147</th>\n",
       "      <td>6.5</td>\n",
       "      <td>3.0</td>\n",
       "      <td>5.2</td>\n",
       "      <td>2.0</td>\n",
       "      <td>Iris-virginica</td>\n",
       "      <td>NaN</td>\n",
       "    </tr>\n",
       "    <tr>\n",
       "      <th>148</th>\n",
       "      <td>6.2</td>\n",
       "      <td>3.4</td>\n",
       "      <td>5.4</td>\n",
       "      <td>2.3</td>\n",
       "      <td>Iris-virginica</td>\n",
       "      <td>NaN</td>\n",
       "    </tr>\n",
       "    <tr>\n",
       "      <th>149</th>\n",
       "      <td>5.9</td>\n",
       "      <td>3.0</td>\n",
       "      <td>5.1</td>\n",
       "      <td>1.8</td>\n",
       "      <td>Iris-virginica</td>\n",
       "      <td>NaN</td>\n",
       "    </tr>\n",
       "  </tbody>\n",
       "</table>\n",
       "<p>147 rows × 6 columns</p>\n",
       "</div>"
      ],
      "text/plain": [
       "     Sepal Length  Sepal Width  petallengthcm  petalwidthcm         species  \\\n",
       "0             5.1          3.5            1.4           0.2     Iris-setosa   \n",
       "1             4.9          3.0            1.4           0.2     Iris-setosa   \n",
       "2             4.7          3.2            1.3           0.2     Iris-setosa   \n",
       "3             4.6          3.1            1.5           0.2     Iris-setosa   \n",
       "4             5.0          3.6            1.4           0.2     Iris-setosa   \n",
       "..            ...          ...            ...           ...             ...   \n",
       "145           6.7          3.0            5.2           2.3  Iris-virginica   \n",
       "146           6.3          2.5            5.0           1.9  Iris-virginica   \n",
       "147           6.5          3.0            5.2           2.0  Iris-virginica   \n",
       "148           6.2          3.4            5.4           2.3  Iris-virginica   \n",
       "149           5.9          3.0            5.1           1.8  Iris-virginica   \n",
       "\n",
       "     Petal Width  \n",
       "0            NaN  \n",
       "1            NaN  \n",
       "2            NaN  \n",
       "3            NaN  \n",
       "4            NaN  \n",
       "..           ...  \n",
       "145          NaN  \n",
       "146          NaN  \n",
       "147          NaN  \n",
       "148          NaN  \n",
       "149          NaN  \n",
       "\n",
       "[147 rows x 6 columns]"
      ]
     },
     "execution_count": 18,
     "metadata": {},
     "output_type": "execute_result"
    }
   ],
   "outputs_reference": "s3:deepnote-cell-outputs-production/fbe30752-33f5-4eb1-add3-baae3cfa7946",
   "source": [
    "# membuat copy dataframe pada variabel lain\n",
    "df_mean = df.copy(deep=True)\n",
    "\n",
    "# mencari nilai mean\n",
    "mean = round(df_mean['Sepal Length'].mean(), 1)\n",
    "\n",
    "print('nilai mean adalah = ', mean)\n",
    "\n",
    "# imputasi missing value dengan mean\n",
    "df_mean['Sepal Length'].fillna(mean, inplace=True)\n",
    "\n",
    "df_mean"
   ]
  },
  {
   "block_group": "38b5cb05a9cc4d6ba5ff302e201fde86",
   "cell_type": "markdown",
   "metadata": {
    "cell_id": "21519f370c0d406c84c2aed5a8c159b2",
    "deepnote_cell_type": "text-cell-p",
    "formattedRanges": []
   },
   "source": [
    "Berdasarkan kode program diatas. kita membuat duplikasi dataframe yang nantinya untuk menyipan dataframe yang menggunakan metode mean. kemudian mencari nilai mean dan timpa atau gantikan baris yang memiliki missing value dengan nilai mean."
   ]
  },
  {
   "block_group": "ea7f6bbc9b25480c8bd50aa90775c329",
   "cell_type": "markdown",
   "metadata": {
    "cell_id": "f5614f29e234424f9cbebc51ec9f6d8c",
    "deepnote_cell_type": "text-cell-h2",
    "formattedRanges": []
   },
   "source": [
    "## Penanganan missing value dengan metode K Nearest Neightbour (KNN)"
   ]
  },
  {
   "block_group": "520c76f5a549495d9805c905c3f5d219",
   "cell_type": "markdown",
   "metadata": {
    "cell_id": "9987810fa6374c409d494235cfc829c9",
    "deepnote_cell_type": "text-cell-p",
    "formattedRanges": []
   },
   "source": [
    "Jika kita merujuk pada ide \"K Nearest Neightbour\" atau \"Tetangga Terdekat K\", itu adalah sebuah metode di mana kita mencari sejumlah tetangga terdekat dari data yang ingin diprediksi, dan kemudian membandingkan kelas dari tetangga tersebut untuk memprediksi kelas dari data yang baru. Jadi, kita dapat menggambarkan KNN sebagai teknik yang menggunakan jumlah tetangga terdekat untuk memprediksi kelasifikasi data baru. Penjelasan lebih rinci tentang cara kerjanya dapat ditemukan di bawah ini."
   ]
  },
  {
   "block_group": "ec7a7a5e99194cf3a324fa6c4f83fc6c",
   "cell_type": "markdown",
   "metadata": {
    "cell_id": "e7819ae06b444dc694ae1b136b583aa4",
    "deepnote_cell_type": "image",
    "deepnote_img_src": "image-20240314-093855.png"
   },
   "source": [
    "<img src=\"image-20240314-093855.png\" width=\"\" align=\"\" />"
   ]
  },
  {
   "block_group": "a413af57f97e4fcdaf79c25153134e0e",
   "cell_type": "markdown",
   "metadata": {
    "cell_id": "269d93e012114b7cafd7fc9add718d2a",
    "deepnote_cell_type": "text-cell-p",
    "formattedRanges": []
   },
   "source": []
  },
  {
   "block_group": "73c82ff305ac4d45880904987669823a",
   "cell_type": "markdown",
   "metadata": {
    "cell_id": "6e8a5dcb305f4b929dd91044172aa786",
    "deepnote_cell_type": "text-cell-p",
    "formattedRanges": [
     {
      "fromCodePoint": 0,
      "marks": {
       "bold": true
      },
      "toCodePoint": 14,
      "type": "marks"
     }
    ]
   },
   "source": [
    "1.INITIAL DATA"
   ]
  },
  {
   "block_group": "c61f21e6ff2942e88ab6cbc5f5a9c8cb",
   "cell_type": "markdown",
   "metadata": {
    "cell_id": "f4619380821b491abc99499fee280de7",
    "deepnote_cell_type": "text-cell-p",
    "formattedRanges": []
   },
   "source": [
    "Algoritma KNN melakukan klasifikasi dengan memproyeksikan data pembelajaran ke dalam ruang berdimensi banyak.\r\n",
    "Ruang ini dibagi menjadi bagian-bagian yang merepresentasikan kriteria data .\r\n",
    "Setiap data pembelajaran direpresentasikan sebagai titik-titik dalam ruang berdimensi banyak.\r\n",
    "Proses klasifikasi dilakukan dengan mencari titik terdekat dari data baru menggunakan formula jarak, seperti jarak Euclidean, jarak Hamming, Manhattan Distance, atau Minkowski Distance.\r\n",
    "Teknik pencarian tetangga terdekat disesuaikan dengan dimensi data, proyeksi, dan kemudahan implementasi oleh pengguna."
   ]
  },
  {
   "block_group": "51aac24fa4784c8fb7958d7d0e153da8",
   "cell_type": "markdown",
   "metadata": {
    "cell_id": "0a4f6fe258ba48a1b592ceedaed3c880",
    "deepnote_cell_type": "text-cell-p",
    "formattedRanges": [
     {
      "fromCodePoint": 0,
      "marks": {
       "bold": true
      },
      "toCodePoint": 20,
      "type": "marks"
     }
    ]
   },
   "source": [
    "2.CALCULATE DISTANCE"
   ]
  },
  {
   "block_group": "40034b0b92c34a55910ac7f08f15722e",
   "cell_type": "markdown",
   "metadata": {
    "cell_id": "c9abc35c762b48f98658f283005c3f2f",
    "deepnote_cell_type": "image",
    "deepnote_img_src": "image-20240314-095109.png"
   },
   "source": [
    "<img src=\"image-20240314-095109.png\" width=\"\" align=\"\" />"
   ]
  },
  {
   "block_group": "1f42449465504a14b625006eb3b1aee5",
   "cell_type": "markdown",
   "metadata": {
    "cell_id": "95f6c1169b5c4364a00ea67a1ed4ed3c",
    "deepnote_app_block_visible": false,
    "deepnote_cell_type": "markdown"
   },
   "source": [
    "$d(P,Q) = \\sqrt{\\sum_{i=1}^{n} (p_{i} - q_{i})^2}$\n",
    "\n",
    "$d(P,Q) = \\sqrt{(p_{1} - q_{1})^2 + (p_{2} - q_{2})^2 + ... + (p_{n} - q_{n})^2}$"
   ]
  },
  {
   "block_group": "11e3383b41f544d29692e15851476eff",
   "cell_type": "markdown",
   "metadata": {
    "cell_id": "42fbe1015b0e4b89a2e93210a687955c",
    "deepnote_cell_type": "image",
    "deepnote_img_src": "image-20240314-095609.png"
   },
   "source": [
    "<img src=\"image-20240314-095609.png\" width=\"\" align=\"\" />"
   ]
  },
  {
   "block_group": "a7a4b7b85d6d4459bc2553a98fee6ff0",
   "cell_type": "code",
   "execution_count": 19,
   "metadata": {
    "cell_id": "7f50af947fb547089bfd10f283193ff0",
    "deepnote_cell_type": "code",
    "deepnote_to_be_reexecuted": false,
    "execution_millis": 447,
    "execution_start": 1710390205950,
    "source_hash": "fdaf9346"
   },
   "outputs": [
    {
     "data": {
      "application/vnd.deepnote.dataframe.v3+json": {
       "column_count": 5,
       "columns": [
        {
         "dtype": "float64",
         "name": "Sepal Length",
         "stats": {
          "histogram": [
           {
            "bin_end": 4.66,
            "bin_start": 4.3,
            "count": 9
           },
           {
            "bin_end": 5.02,
            "bin_start": 4.66,
            "count": 20
           },
           {
            "bin_end": 5.38,
            "bin_start": 5.02,
            "count": 15
           },
           {
            "bin_end": 5.74,
            "bin_start": 5.38,
            "count": 26
           },
           {
            "bin_end": 6.1,
            "bin_start": 5.74,
            "count": 15
           },
           {
            "bin_end": 6.46,
            "bin_start": 6.1,
            "count": 27
           },
           {
            "bin_end": 6.82,
            "bin_start": 6.46,
            "count": 18
           },
           {
            "bin_end": 7.18,
            "bin_start": 6.82,
            "count": 6
           },
           {
            "bin_end": 7.54,
            "bin_start": 7.18,
            "count": 5
           },
           {
            "bin_end": 7.9,
            "bin_start": 7.54,
            "count": 6
           }
          ],
          "max": "7.9",
          "min": "4.3",
          "nan_count": 0,
          "unique_count": 39
         }
        },
        {
         "dtype": "float64",
         "name": "Sepal Width",
         "stats": {
          "histogram": [
           {
            "bin_end": 2.24,
            "bin_start": 2,
            "count": 4
           },
           {
            "bin_end": 2.48,
            "bin_start": 2.24,
            "count": 7
           },
           {
            "bin_end": 2.72,
            "bin_start": 2.48,
            "count": 21
           },
           {
            "bin_end": 2.96,
            "bin_start": 2.72,
            "count": 24
           },
           {
            "bin_end": 3.2,
            "bin_start": 2.96,
            "count": 36
           },
           {
            "bin_end": 3.4400000000000004,
            "bin_start": 3.2,
            "count": 31
           },
           {
            "bin_end": 3.6800000000000006,
            "bin_start": 3.4400000000000004,
            "count": 9
           },
           {
            "bin_end": 3.9200000000000004,
            "bin_start": 3.6800000000000006,
            "count": 11
           },
           {
            "bin_end": 4.16,
            "bin_start": 3.9200000000000004,
            "count": 2
           },
           {
            "bin_end": 4.4,
            "bin_start": 4.16,
            "count": 2
           }
          ],
          "max": "4.4",
          "min": "2.0",
          "nan_count": 0,
          "unique_count": 23
         }
        },
        {
         "dtype": "float64",
         "name": "Petal Length",
         "stats": {
          "histogram": [
           {
            "bin_end": 1.59,
            "bin_start": 1,
            "count": 35
           },
           {
            "bin_end": 2.18,
            "bin_start": 1.59,
            "count": 13
           },
           {
            "bin_end": 2.7700000000000005,
            "bin_start": 2.18,
            "count": 0
           },
           {
            "bin_end": 3.3600000000000003,
            "bin_start": 2.7700000000000005,
            "count": 3
           },
           {
            "bin_end": 3.95,
            "bin_start": 3.3600000000000003,
            "count": 8
           },
           {
            "bin_end": 4.540000000000001,
            "bin_start": 3.95,
            "count": 26
           },
           {
            "bin_end": 5.130000000000001,
            "bin_start": 4.540000000000001,
            "count": 28
           },
           {
            "bin_end": 5.720000000000001,
            "bin_start": 5.130000000000001,
            "count": 18
           },
           {
            "bin_end": 6.3100000000000005,
            "bin_start": 5.720000000000001,
            "count": 11
           },
           {
            "bin_end": 6.9,
            "bin_start": 6.3100000000000005,
            "count": 5
           }
          ],
          "max": "6.9",
          "min": "1.0",
          "nan_count": 0,
          "unique_count": 43
         }
        },
        {
         "dtype": "float64",
         "name": "Petal Width",
         "stats": {
          "histogram": [
           {
            "bin_end": 0.33999999999999997,
            "bin_start": 0.1,
            "count": 39
           },
           {
            "bin_end": 0.58,
            "bin_start": 0.33999999999999997,
            "count": 8
           },
           {
            "bin_end": 0.82,
            "bin_start": 0.58,
            "count": 1
           },
           {
            "bin_end": 1.06,
            "bin_start": 0.82,
            "count": 7
           },
           {
            "bin_end": 1.3,
            "bin_start": 1.06,
            "count": 8
           },
           {
            "bin_end": 1.54,
            "bin_start": 1.3,
            "count": 33
           },
           {
            "bin_end": 1.78,
            "bin_start": 1.54,
            "count": 6
           },
           {
            "bin_end": 2.02,
            "bin_start": 1.78,
            "count": 22
           },
           {
            "bin_end": 2.2600000000000002,
            "bin_start": 2.02,
            "count": 9
           },
           {
            "bin_end": 2.5,
            "bin_start": 2.2600000000000002,
            "count": 14
           }
          ],
          "max": "2.5",
          "min": "0.1",
          "nan_count": 0,
          "unique_count": 22
         }
        },
        {
         "dtype": "object",
         "name": "Species",
         "stats": {
          "categories": [
           {
            "count": 50,
            "name": "Iris-versicolor"
           },
           {
            "count": 49,
            "name": "Iris-virginica"
           },
           {
            "count": 48,
            "name": "Iris-setosa"
           }
          ],
          "nan_count": 0,
          "unique_count": 3
         }
        },
        {
         "dtype": "int64",
         "name": "_deepnote_index_column"
        }
       ],
       "row_count": 147,
       "rows": [
        {
         "Petal Length": 1.4,
         "Petal Width": 0.2,
         "Sepal Length": 5.1,
         "Sepal Width": 3.5,
         "Species": "Iris-setosa",
         "_deepnote_index_column": 0
        },
        {
         "Petal Length": 1.4,
         "Petal Width": 0.2,
         "Sepal Length": 4.9,
         "Sepal Width": 3,
         "Species": "Iris-setosa",
         "_deepnote_index_column": 1
        },
        {
         "Petal Length": 1.3,
         "Petal Width": 0.2,
         "Sepal Length": 4.7,
         "Sepal Width": 3.2,
         "Species": "Iris-setosa",
         "_deepnote_index_column": 2
        },
        {
         "Petal Length": 1.5,
         "Petal Width": 0.2,
         "Sepal Length": 4.6,
         "Sepal Width": 3.1,
         "Species": "Iris-setosa",
         "_deepnote_index_column": 3
        },
        {
         "Petal Length": 1.4,
         "Petal Width": 0.2,
         "Sepal Length": 5,
         "Sepal Width": 3.6,
         "Species": "Iris-setosa",
         "_deepnote_index_column": 4
        },
        {
         "Petal Length": 1.7,
         "Petal Width": 0.4,
         "Sepal Length": 5.4,
         "Sepal Width": 3.9,
         "Species": "Iris-setosa",
         "_deepnote_index_column": 5
        },
        {
         "Petal Length": 1.4,
         "Petal Width": 0.3,
         "Sepal Length": 4.6,
         "Sepal Width": 3.4,
         "Species": "Iris-setosa",
         "_deepnote_index_column": 6
        },
        {
         "Petal Length": 1.5,
         "Petal Width": 0.2,
         "Sepal Length": 5,
         "Sepal Width": 3.4,
         "Species": "Iris-setosa",
         "_deepnote_index_column": 7
        },
        {
         "Petal Length": 1.4,
         "Petal Width": 0.2,
         "Sepal Length": 4.4,
         "Sepal Width": 2.9,
         "Species": "Iris-setosa",
         "_deepnote_index_column": 8
        },
        {
         "Petal Length": 1.5,
         "Petal Width": 0.1,
         "Sepal Length": 4.9,
         "Sepal Width": 3.1,
         "Species": "Iris-setosa",
         "_deepnote_index_column": 9
        }
       ]
      },
      "text/html": [
       "<div>\n",
       "<style scoped>\n",
       "    .dataframe tbody tr th:only-of-type {\n",
       "        vertical-align: middle;\n",
       "    }\n",
       "\n",
       "    .dataframe tbody tr th {\n",
       "        vertical-align: top;\n",
       "    }\n",
       "\n",
       "    .dataframe thead th {\n",
       "        text-align: right;\n",
       "    }\n",
       "</style>\n",
       "<table border=\"1\" class=\"dataframe\">\n",
       "  <thead>\n",
       "    <tr style=\"text-align: right;\">\n",
       "      <th></th>\n",
       "      <th>Sepal Length</th>\n",
       "      <th>Sepal Width</th>\n",
       "      <th>Petal Length</th>\n",
       "      <th>Petal Width</th>\n",
       "      <th>Species</th>\n",
       "    </tr>\n",
       "  </thead>\n",
       "  <tbody>\n",
       "    <tr>\n",
       "      <th>0</th>\n",
       "      <td>5.100000</td>\n",
       "      <td>3.5</td>\n",
       "      <td>1.4</td>\n",
       "      <td>0.2</td>\n",
       "      <td>Iris-setosa</td>\n",
       "    </tr>\n",
       "    <tr>\n",
       "      <th>1</th>\n",
       "      <td>4.900000</td>\n",
       "      <td>3.0</td>\n",
       "      <td>1.4</td>\n",
       "      <td>0.2</td>\n",
       "      <td>Iris-setosa</td>\n",
       "    </tr>\n",
       "    <tr>\n",
       "      <th>2</th>\n",
       "      <td>4.700000</td>\n",
       "      <td>3.2</td>\n",
       "      <td>1.3</td>\n",
       "      <td>0.2</td>\n",
       "      <td>Iris-setosa</td>\n",
       "    </tr>\n",
       "    <tr>\n",
       "      <th>3</th>\n",
       "      <td>4.600000</td>\n",
       "      <td>3.1</td>\n",
       "      <td>1.5</td>\n",
       "      <td>0.2</td>\n",
       "      <td>Iris-setosa</td>\n",
       "    </tr>\n",
       "    <tr>\n",
       "      <th>4</th>\n",
       "      <td>5.000000</td>\n",
       "      <td>3.6</td>\n",
       "      <td>1.4</td>\n",
       "      <td>0.2</td>\n",
       "      <td>Iris-setosa</td>\n",
       "    </tr>\n",
       "    <tr>\n",
       "      <th>...</th>\n",
       "      <td>...</td>\n",
       "      <td>...</td>\n",
       "      <td>...</td>\n",
       "      <td>...</td>\n",
       "      <td>...</td>\n",
       "    </tr>\n",
       "    <tr>\n",
       "      <th>142</th>\n",
       "      <td>6.700000</td>\n",
       "      <td>3.0</td>\n",
       "      <td>5.2</td>\n",
       "      <td>2.3</td>\n",
       "      <td>Iris-virginica</td>\n",
       "    </tr>\n",
       "    <tr>\n",
       "      <th>143</th>\n",
       "      <td>6.300000</td>\n",
       "      <td>2.5</td>\n",
       "      <td>5.0</td>\n",
       "      <td>1.9</td>\n",
       "      <td>Iris-virginica</td>\n",
       "    </tr>\n",
       "    <tr>\n",
       "      <th>144</th>\n",
       "      <td>6.500000</td>\n",
       "      <td>3.0</td>\n",
       "      <td>5.2</td>\n",
       "      <td>2.0</td>\n",
       "      <td>Iris-virginica</td>\n",
       "    </tr>\n",
       "    <tr>\n",
       "      <th>145</th>\n",
       "      <td>6.200000</td>\n",
       "      <td>3.4</td>\n",
       "      <td>5.4</td>\n",
       "      <td>2.3</td>\n",
       "      <td>Iris-virginica</td>\n",
       "    </tr>\n",
       "    <tr>\n",
       "      <th>146</th>\n",
       "      <td>6.433333</td>\n",
       "      <td>3.0</td>\n",
       "      <td>5.1</td>\n",
       "      <td>1.8</td>\n",
       "      <td>Iris-virginica</td>\n",
       "    </tr>\n",
       "  </tbody>\n",
       "</table>\n",
       "<p>147 rows × 5 columns</p>\n",
       "</div>"
      ],
      "text/plain": [
       "     Sepal Length  Sepal Width  Petal Length  Petal Width         Species\n",
       "0        5.100000          3.5           1.4          0.2     Iris-setosa\n",
       "1        4.900000          3.0           1.4          0.2     Iris-setosa\n",
       "2        4.700000          3.2           1.3          0.2     Iris-setosa\n",
       "3        4.600000          3.1           1.5          0.2     Iris-setosa\n",
       "4        5.000000          3.6           1.4          0.2     Iris-setosa\n",
       "..            ...          ...           ...          ...             ...\n",
       "142      6.700000          3.0           5.2          2.3  Iris-virginica\n",
       "143      6.300000          2.5           5.0          1.9  Iris-virginica\n",
       "144      6.500000          3.0           5.2          2.0  Iris-virginica\n",
       "145      6.200000          3.4           5.4          2.3  Iris-virginica\n",
       "146      6.433333          3.0           5.1          1.8  Iris-virginica\n",
       "\n",
       "[147 rows x 5 columns]"
      ]
     },
     "execution_count": 19,
     "metadata": {},
     "output_type": "execute_result"
    }
   ],
   "outputs_reference": "s3:deepnote-cell-outputs-production/ec8bd83f-e041-4099-b5b6-1f8521e8f3b6",
   "source": [
    "from sklearn.impute import KNNImputer\n",
    "\n",
    "# duplikasi dataframe\n",
    "df_knn = df.copy(deep=True)\n",
    "\n",
    "# simpan class species\n",
    "df_species = df_knn[['species']]\n",
    "\n",
    "list_species = df_species.values.tolist()\n",
    "\n",
    "#hapus kolom yang tidak diperlukan\n",
    "df_knn = df_knn.drop(['species'], axis=1)\n",
    "\n",
    "# old_value = df_knn.drop(['species'], axis=1).to_numpy()\n",
    "\n",
    "# inisialisasi KNNImputer\n",
    "imputer = KNNImputer(n_neighbors=3)\n",
    "\n",
    "# simpan kalkulasi\n",
    "result = imputer.fit_transform(df_knn)\n",
    "\n",
    "result = result.tolist()\n",
    "\n",
    "# gabung hasil dengan class\n",
    "for index in range(len(result)):\n",
    "    result[index].append(list_species[index][0])\n",
    "\n",
    "# buat dataframe\n",
    "df_knn = pd.DataFrame(result, columns=['Sepal Length', 'Sepal Width', 'Petal Length', 'Petal Width', 'Species'])\n",
    "\n",
    "df_knn"
   ]
  },
  {
   "cell_type": "markdown",
   "metadata": {
    "created_in_deepnote_cell": true,
    "deepnote_cell_type": "markdown"
   },
   "source": [
    "<a style='text-decoration:none;line-height:16px;display:flex;color:#5B5B62;padding:10px;justify-content:end;' href='https://deepnote.com?utm_source=created-in-deepnote-cell&projectId=8912165a-7e42-4d21-9551-d1060fd57f14' target=\"_blank\">\n",
    "<img alt='Created in deepnote.com' style='display:inline;max-height:16px;margin:0px;margin-right:7.5px;' src='data:image/svg+xml;base64,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' > </img>\n",
    "Created in <span style='font-weight:600;margin-left:4px;'>Deepnote</span></a>"
   ]
  }
 ],
 "metadata": {
  "deepnote_execution_queue": [],
  "deepnote_notebook_id": "9460f2356a7046d2b0f7190955a12d14",
  "language_info": {
   "codemirror_mode": {
    "name": "ipython",
    "version": 3
   },
   "file_extension": ".py",
   "mimetype": "text/x-python",
   "name": "python",
   "nbconvert_exporter": "python",
   "pygments_lexer": "ipython3",
   "version": "3.10.13"
  }
 },
 "nbformat": 4,
 "nbformat_minor": 0
}